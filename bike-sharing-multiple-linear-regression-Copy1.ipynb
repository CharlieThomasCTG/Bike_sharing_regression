{
 "cells": [
  {
   "cell_type": "markdown",
   "metadata": {},
   "source": [
    "# Section 1: Problem Statement\n",
    "\n",
    "A bike-sharing system is a service in which bikes are made available for shared use to individuals on a short term basis \n",
    "for a price or free. Many bike share systems allow people to borrow a bike from a \"dock\" which is usually computer-controlled \n",
    "wherein the user enters the payment information, and the system unlocks it. This bike can then be returned to another dock \n",
    "belonging to the same system.\n",
    "\n",
    "A US bike-sharing provider BoomBikes has recently suffered considerable dips in their revenues due to the ongoing Corona \n",
    "pandemic. The company is finding it very difficult to sustain in the current market scenario. So, it has decided to come \n",
    "up with a mindful business plan to be able to accelerate its revenue as soon as the ongoing lockdown comes to an end, \n",
    "and the economy restores to a healthy state. \n",
    "\n",
    "In such an attempt, BoomBikes aspires to understand the demand for shared bikes among the people after this ongoing quarantine\n",
    "situation ends across the nation due to Covid-19. They have planned this to prepare themselves to cater to the people's needs \n",
    "once the situation gets better all around and stand out from other service providers and make huge profits.They have contracted\n",
    "a consulting company to understand the factors on which the demand for these shared bikes depends. Specifically, they want to \n",
    "understand the factors affecting the demand for these shared bikes in the American market. The company wants to know:Which variables \n",
    "are significant in predicting the demand for shared bikes.\n",
    "\n",
    "How well those variables describe the bike demands based on various meteorological surveys and people's styles, the service provider \n",
    "firm has gathered a large dataset on daily bike demands across the American market based on some factors. \n",
    "\n",
    "\n",
    " "
   ]
  },
  {
   "cell_type": "markdown",
   "metadata": {},
   "source": [
    "# Section 2: Business Goal\n",
    "To model the demand for shared bikes with the available independent variables. It will be used by the management to understand \n",
    "how exactly the demands vary with different features.They can accordingly manipulate the business strategy to meet the demand \n",
    "levels and meet the customer's expectations. Further, the model will be a good way for management to understand the demand \n",
    "dynamics of a new market."
   ]
  },
  {
   "cell_type": "markdown",
   "metadata": {},
   "source": [
    "Dataset characteristics\n",
    "=========================================\t\n",
    "day.csv have the following fields:\n",
    "\t\n",
    "\t- instant: record index\n",
    "\t- dteday : date\n",
    "\t- season : season (1:spring, 2:summer, 3:fall, 4:winter)\n",
    "\t- yr : year (0: 2018, 1:2019)\n",
    "\t- mnth : month ( 1 to 12)\n",
    "\t- holiday : weather day is a holiday or not (extracted from http://dchr.dc.gov/page/holiday-schedule)\n",
    "\t- weekday : day of the week\n",
    "\t- workingday : if day is neither weekend nor holiday is 1, otherwise is 0.\n",
    "\t+ weathersit : \n",
    "\t\t- 1: Clear, Few clouds, Partly cloudy, Partly cloudy\n",
    "\t\t- 2: Mist + Cloudy, Mist + Broken clouds, Mist + Few clouds, Mist\n",
    "\t\t- 3: Light Snow, Light Rain + Thunderstorm + Scattered clouds, Light Rain + Scattered clouds\n",
    "\t\t- 4: Heavy Rain + Ice Pallets + Thunderstorm + Mist, Snow + Fog\n",
    "\t- temp : temperature in Celsius\n",
    "\t- atemp: feeling temperature in Celsius\n",
    "\t- hum: humidity\n",
    "\t- windspeed: wind speed\n",
    "\t- casual: count of casual users\n",
    "\t- registered: count of registered users\n",
    "\t- cnt: count of total rental bikes including both casual and registered\n",
    "\t\n",
    "========================================="
   ]
  },
  {
   "cell_type": "markdown",
   "metadata": {},
   "source": [
    "# Section 3: Reading and Understanding the Data\n"
   ]
  },
  {
   "cell_type": "code",
   "execution_count": 1,
   "metadata": {},
   "outputs": [],
   "source": [
    "# Supress Warnings\n",
    "import warnings\n",
    "warnings.filterwarnings('ignore')"
   ]
  },
  {
   "cell_type": "code",
   "execution_count": 2,
   "metadata": {},
   "outputs": [],
   "source": [
    "import numpy as np\n",
    "import pandas as pd\n",
    "import matplotlib.pyplot as plt\n",
    "import seaborn as sns\n",
    "%matplotlib inline\n",
    "import sweetviz as sv\n",
    "import scipy.stats as stats\n",
    "import math\n",
    "from sklearn.preprocessing import MinMaxScaler,StandardScaler\n",
    "from sklearn.model_selection import train_test_split\n",
    "\n",
    "#Setting option to diaply maximum rows and columns\n",
    "pd.set_option('display.max_rows',None)\n",
    "pd.set_option('display.max_columns',None)"
   ]
  },
  {
   "cell_type": "code",
   "execution_count": 3,
   "metadata": {},
   "outputs": [
    {
     "name": "stdout",
     "output_type": "stream",
     "text": [
      "1.2.4\n",
      "1.20.1\n",
      "0.11.1\n",
      "2.1.3\n"
     ]
    }
   ],
   "source": [
    "#Checking the version of the libraries\n",
    "#Panda's version\n",
    "print(pd.__version__)\n",
    "#Numpy's version\n",
    "print(np.__version__)\n",
    "#Seaborn's version\n",
    "print(sns.__version__)\n",
    "#Sweetviz's version\n",
    "print(sv.__version__)"
   ]
  },
  {
   "cell_type": "code",
   "execution_count": 4,
   "metadata": {},
   "outputs": [],
   "source": [
    "df_bike_share = pd.read_csv(\"day.csv\")"
   ]
  },
  {
   "cell_type": "code",
   "execution_count": 5,
   "metadata": {},
   "outputs": [
    {
     "data": {
      "text/html": [
       "<div>\n",
       "<style scoped>\n",
       "    .dataframe tbody tr th:only-of-type {\n",
       "        vertical-align: middle;\n",
       "    }\n",
       "\n",
       "    .dataframe tbody tr th {\n",
       "        vertical-align: top;\n",
       "    }\n",
       "\n",
       "    .dataframe thead th {\n",
       "        text-align: right;\n",
       "    }\n",
       "</style>\n",
       "<table border=\"1\" class=\"dataframe\">\n",
       "  <thead>\n",
       "    <tr style=\"text-align: right;\">\n",
       "      <th></th>\n",
       "      <th>instant</th>\n",
       "      <th>dteday</th>\n",
       "      <th>season</th>\n",
       "      <th>yr</th>\n",
       "      <th>mnth</th>\n",
       "      <th>holiday</th>\n",
       "      <th>weekday</th>\n",
       "      <th>workingday</th>\n",
       "      <th>weathersit</th>\n",
       "      <th>temp</th>\n",
       "      <th>atemp</th>\n",
       "      <th>hum</th>\n",
       "      <th>windspeed</th>\n",
       "      <th>casual</th>\n",
       "      <th>registered</th>\n",
       "      <th>cnt</th>\n",
       "    </tr>\n",
       "  </thead>\n",
       "  <tbody>\n",
       "    <tr>\n",
       "      <th>0</th>\n",
       "      <td>1</td>\n",
       "      <td>2011-01-01</td>\n",
       "      <td>1</td>\n",
       "      <td>0</td>\n",
       "      <td>1</td>\n",
       "      <td>0</td>\n",
       "      <td>6</td>\n",
       "      <td>0</td>\n",
       "      <td>2</td>\n",
       "      <td>0.344167</td>\n",
       "      <td>0.363625</td>\n",
       "      <td>0.805833</td>\n",
       "      <td>0.160446</td>\n",
       "      <td>331</td>\n",
       "      <td>654</td>\n",
       "      <td>985</td>\n",
       "    </tr>\n",
       "    <tr>\n",
       "      <th>1</th>\n",
       "      <td>2</td>\n",
       "      <td>2011-01-02</td>\n",
       "      <td>1</td>\n",
       "      <td>0</td>\n",
       "      <td>1</td>\n",
       "      <td>0</td>\n",
       "      <td>0</td>\n",
       "      <td>0</td>\n",
       "      <td>2</td>\n",
       "      <td>0.363478</td>\n",
       "      <td>0.353739</td>\n",
       "      <td>0.696087</td>\n",
       "      <td>0.248539</td>\n",
       "      <td>131</td>\n",
       "      <td>670</td>\n",
       "      <td>801</td>\n",
       "    </tr>\n",
       "    <tr>\n",
       "      <th>2</th>\n",
       "      <td>3</td>\n",
       "      <td>2011-01-03</td>\n",
       "      <td>1</td>\n",
       "      <td>0</td>\n",
       "      <td>1</td>\n",
       "      <td>0</td>\n",
       "      <td>1</td>\n",
       "      <td>1</td>\n",
       "      <td>1</td>\n",
       "      <td>0.196364</td>\n",
       "      <td>0.189405</td>\n",
       "      <td>0.437273</td>\n",
       "      <td>0.248309</td>\n",
       "      <td>120</td>\n",
       "      <td>1229</td>\n",
       "      <td>1349</td>\n",
       "    </tr>\n",
       "    <tr>\n",
       "      <th>3</th>\n",
       "      <td>4</td>\n",
       "      <td>2011-01-04</td>\n",
       "      <td>1</td>\n",
       "      <td>0</td>\n",
       "      <td>1</td>\n",
       "      <td>0</td>\n",
       "      <td>2</td>\n",
       "      <td>1</td>\n",
       "      <td>1</td>\n",
       "      <td>0.200000</td>\n",
       "      <td>0.212122</td>\n",
       "      <td>0.590435</td>\n",
       "      <td>0.160296</td>\n",
       "      <td>108</td>\n",
       "      <td>1454</td>\n",
       "      <td>1562</td>\n",
       "    </tr>\n",
       "    <tr>\n",
       "      <th>4</th>\n",
       "      <td>5</td>\n",
       "      <td>2011-01-05</td>\n",
       "      <td>1</td>\n",
       "      <td>0</td>\n",
       "      <td>1</td>\n",
       "      <td>0</td>\n",
       "      <td>3</td>\n",
       "      <td>1</td>\n",
       "      <td>1</td>\n",
       "      <td>0.226957</td>\n",
       "      <td>0.229270</td>\n",
       "      <td>0.436957</td>\n",
       "      <td>0.186900</td>\n",
       "      <td>82</td>\n",
       "      <td>1518</td>\n",
       "      <td>1600</td>\n",
       "    </tr>\n",
       "  </tbody>\n",
       "</table>\n",
       "</div>"
      ],
      "text/plain": [
       "   instant      dteday  season  yr  mnth  holiday  weekday  workingday  \\\n",
       "0        1  2011-01-01       1   0     1        0        6           0   \n",
       "1        2  2011-01-02       1   0     1        0        0           0   \n",
       "2        3  2011-01-03       1   0     1        0        1           1   \n",
       "3        4  2011-01-04       1   0     1        0        2           1   \n",
       "4        5  2011-01-05       1   0     1        0        3           1   \n",
       "\n",
       "   weathersit      temp     atemp       hum  windspeed  casual  registered  \\\n",
       "0           2  0.344167  0.363625  0.805833   0.160446     331         654   \n",
       "1           2  0.363478  0.353739  0.696087   0.248539     131         670   \n",
       "2           1  0.196364  0.189405  0.437273   0.248309     120        1229   \n",
       "3           1  0.200000  0.212122  0.590435   0.160296     108        1454   \n",
       "4           1  0.226957  0.229270  0.436957   0.186900      82        1518   \n",
       "\n",
       "    cnt  \n",
       "0   985  \n",
       "1   801  \n",
       "2  1349  \n",
       "3  1562  \n",
       "4  1600  "
      ]
     },
     "execution_count": 5,
     "metadata": {},
     "output_type": "execute_result"
    }
   ],
   "source": [
    "# Check the head of the dataset\n",
    "df_bike_share.head()"
   ]
  },
  {
   "cell_type": "code",
   "execution_count": 6,
   "metadata": {},
   "outputs": [
    {
     "name": "stdout",
     "output_type": "stream",
     "text": [
      "<class 'pandas.core.frame.DataFrame'>\n",
      "RangeIndex: 731 entries, 0 to 730\n",
      "Data columns (total 16 columns):\n",
      " #   Column      Non-Null Count  Dtype  \n",
      "---  ------      --------------  -----  \n",
      " 0   instant     731 non-null    int64  \n",
      " 1   dteday      731 non-null    object \n",
      " 2   season      731 non-null    int64  \n",
      " 3   yr          731 non-null    int64  \n",
      " 4   mnth        731 non-null    int64  \n",
      " 5   holiday     731 non-null    int64  \n",
      " 6   weekday     731 non-null    int64  \n",
      " 7   workingday  731 non-null    int64  \n",
      " 8   weathersit  731 non-null    int64  \n",
      " 9   temp        731 non-null    float64\n",
      " 10  atemp       731 non-null    float64\n",
      " 11  hum         731 non-null    float64\n",
      " 12  windspeed   731 non-null    float64\n",
      " 13  casual      731 non-null    int64  \n",
      " 14  registered  731 non-null    int64  \n",
      " 15  cnt         731 non-null    int64  \n",
      "dtypes: float64(4), int64(11), object(1)\n",
      "memory usage: 91.5+ KB\n"
     ]
    }
   ],
   "source": [
    "# Check the descriptive information\n",
    "df_bike_share.info()"
   ]
  },
  {
   "cell_type": "code",
   "execution_count": 7,
   "metadata": {},
   "outputs": [
    {
     "data": {
      "text/html": [
       "<div>\n",
       "<style scoped>\n",
       "    .dataframe tbody tr th:only-of-type {\n",
       "        vertical-align: middle;\n",
       "    }\n",
       "\n",
       "    .dataframe tbody tr th {\n",
       "        vertical-align: top;\n",
       "    }\n",
       "\n",
       "    .dataframe thead th {\n",
       "        text-align: right;\n",
       "    }\n",
       "</style>\n",
       "<table border=\"1\" class=\"dataframe\">\n",
       "  <thead>\n",
       "    <tr style=\"text-align: right;\">\n",
       "      <th></th>\n",
       "      <th>instant</th>\n",
       "      <th>season</th>\n",
       "      <th>yr</th>\n",
       "      <th>mnth</th>\n",
       "      <th>holiday</th>\n",
       "      <th>weekday</th>\n",
       "      <th>workingday</th>\n",
       "      <th>weathersit</th>\n",
       "      <th>temp</th>\n",
       "      <th>atemp</th>\n",
       "      <th>hum</th>\n",
       "      <th>windspeed</th>\n",
       "      <th>casual</th>\n",
       "      <th>registered</th>\n",
       "      <th>cnt</th>\n",
       "    </tr>\n",
       "  </thead>\n",
       "  <tbody>\n",
       "    <tr>\n",
       "      <th>count</th>\n",
       "      <td>731.000000</td>\n",
       "      <td>731.000000</td>\n",
       "      <td>731.000000</td>\n",
       "      <td>731.000000</td>\n",
       "      <td>731.000000</td>\n",
       "      <td>731.000000</td>\n",
       "      <td>731.000000</td>\n",
       "      <td>731.000000</td>\n",
       "      <td>731.000000</td>\n",
       "      <td>731.000000</td>\n",
       "      <td>731.000000</td>\n",
       "      <td>731.000000</td>\n",
       "      <td>731.000000</td>\n",
       "      <td>731.000000</td>\n",
       "      <td>731.000000</td>\n",
       "    </tr>\n",
       "    <tr>\n",
       "      <th>mean</th>\n",
       "      <td>366.000000</td>\n",
       "      <td>2.496580</td>\n",
       "      <td>0.500684</td>\n",
       "      <td>6.519836</td>\n",
       "      <td>0.028728</td>\n",
       "      <td>2.997264</td>\n",
       "      <td>0.683995</td>\n",
       "      <td>1.395349</td>\n",
       "      <td>0.495385</td>\n",
       "      <td>0.474354</td>\n",
       "      <td>0.627894</td>\n",
       "      <td>0.190486</td>\n",
       "      <td>848.176471</td>\n",
       "      <td>3656.172367</td>\n",
       "      <td>4504.348837</td>\n",
       "    </tr>\n",
       "    <tr>\n",
       "      <th>std</th>\n",
       "      <td>211.165812</td>\n",
       "      <td>1.110807</td>\n",
       "      <td>0.500342</td>\n",
       "      <td>3.451913</td>\n",
       "      <td>0.167155</td>\n",
       "      <td>2.004787</td>\n",
       "      <td>0.465233</td>\n",
       "      <td>0.544894</td>\n",
       "      <td>0.183051</td>\n",
       "      <td>0.162961</td>\n",
       "      <td>0.142429</td>\n",
       "      <td>0.077498</td>\n",
       "      <td>686.622488</td>\n",
       "      <td>1560.256377</td>\n",
       "      <td>1937.211452</td>\n",
       "    </tr>\n",
       "    <tr>\n",
       "      <th>min</th>\n",
       "      <td>1.000000</td>\n",
       "      <td>1.000000</td>\n",
       "      <td>0.000000</td>\n",
       "      <td>1.000000</td>\n",
       "      <td>0.000000</td>\n",
       "      <td>0.000000</td>\n",
       "      <td>0.000000</td>\n",
       "      <td>1.000000</td>\n",
       "      <td>0.059130</td>\n",
       "      <td>0.079070</td>\n",
       "      <td>0.000000</td>\n",
       "      <td>0.022392</td>\n",
       "      <td>2.000000</td>\n",
       "      <td>20.000000</td>\n",
       "      <td>22.000000</td>\n",
       "    </tr>\n",
       "    <tr>\n",
       "      <th>25%</th>\n",
       "      <td>183.500000</td>\n",
       "      <td>2.000000</td>\n",
       "      <td>0.000000</td>\n",
       "      <td>4.000000</td>\n",
       "      <td>0.000000</td>\n",
       "      <td>1.000000</td>\n",
       "      <td>0.000000</td>\n",
       "      <td>1.000000</td>\n",
       "      <td>0.337083</td>\n",
       "      <td>0.337842</td>\n",
       "      <td>0.520000</td>\n",
       "      <td>0.134950</td>\n",
       "      <td>315.500000</td>\n",
       "      <td>2497.000000</td>\n",
       "      <td>3152.000000</td>\n",
       "    </tr>\n",
       "    <tr>\n",
       "      <th>50%</th>\n",
       "      <td>366.000000</td>\n",
       "      <td>3.000000</td>\n",
       "      <td>1.000000</td>\n",
       "      <td>7.000000</td>\n",
       "      <td>0.000000</td>\n",
       "      <td>3.000000</td>\n",
       "      <td>1.000000</td>\n",
       "      <td>1.000000</td>\n",
       "      <td>0.498333</td>\n",
       "      <td>0.486733</td>\n",
       "      <td>0.626667</td>\n",
       "      <td>0.180975</td>\n",
       "      <td>713.000000</td>\n",
       "      <td>3662.000000</td>\n",
       "      <td>4548.000000</td>\n",
       "    </tr>\n",
       "    <tr>\n",
       "      <th>75%</th>\n",
       "      <td>548.500000</td>\n",
       "      <td>3.000000</td>\n",
       "      <td>1.000000</td>\n",
       "      <td>10.000000</td>\n",
       "      <td>0.000000</td>\n",
       "      <td>5.000000</td>\n",
       "      <td>1.000000</td>\n",
       "      <td>2.000000</td>\n",
       "      <td>0.655417</td>\n",
       "      <td>0.608602</td>\n",
       "      <td>0.730209</td>\n",
       "      <td>0.233214</td>\n",
       "      <td>1096.000000</td>\n",
       "      <td>4776.500000</td>\n",
       "      <td>5956.000000</td>\n",
       "    </tr>\n",
       "    <tr>\n",
       "      <th>max</th>\n",
       "      <td>731.000000</td>\n",
       "      <td>4.000000</td>\n",
       "      <td>1.000000</td>\n",
       "      <td>12.000000</td>\n",
       "      <td>1.000000</td>\n",
       "      <td>6.000000</td>\n",
       "      <td>1.000000</td>\n",
       "      <td>3.000000</td>\n",
       "      <td>0.861667</td>\n",
       "      <td>0.840896</td>\n",
       "      <td>0.972500</td>\n",
       "      <td>0.507463</td>\n",
       "      <td>3410.000000</td>\n",
       "      <td>6946.000000</td>\n",
       "      <td>8714.000000</td>\n",
       "    </tr>\n",
       "  </tbody>\n",
       "</table>\n",
       "</div>"
      ],
      "text/plain": [
       "          instant      season          yr        mnth     holiday     weekday  \\\n",
       "count  731.000000  731.000000  731.000000  731.000000  731.000000  731.000000   \n",
       "mean   366.000000    2.496580    0.500684    6.519836    0.028728    2.997264   \n",
       "std    211.165812    1.110807    0.500342    3.451913    0.167155    2.004787   \n",
       "min      1.000000    1.000000    0.000000    1.000000    0.000000    0.000000   \n",
       "25%    183.500000    2.000000    0.000000    4.000000    0.000000    1.000000   \n",
       "50%    366.000000    3.000000    1.000000    7.000000    0.000000    3.000000   \n",
       "75%    548.500000    3.000000    1.000000   10.000000    0.000000    5.000000   \n",
       "max    731.000000    4.000000    1.000000   12.000000    1.000000    6.000000   \n",
       "\n",
       "       workingday  weathersit        temp       atemp         hum   windspeed  \\\n",
       "count  731.000000  731.000000  731.000000  731.000000  731.000000  731.000000   \n",
       "mean     0.683995    1.395349    0.495385    0.474354    0.627894    0.190486   \n",
       "std      0.465233    0.544894    0.183051    0.162961    0.142429    0.077498   \n",
       "min      0.000000    1.000000    0.059130    0.079070    0.000000    0.022392   \n",
       "25%      0.000000    1.000000    0.337083    0.337842    0.520000    0.134950   \n",
       "50%      1.000000    1.000000    0.498333    0.486733    0.626667    0.180975   \n",
       "75%      1.000000    2.000000    0.655417    0.608602    0.730209    0.233214   \n",
       "max      1.000000    3.000000    0.861667    0.840896    0.972500    0.507463   \n",
       "\n",
       "            casual   registered          cnt  \n",
       "count   731.000000   731.000000   731.000000  \n",
       "mean    848.176471  3656.172367  4504.348837  \n",
       "std     686.622488  1560.256377  1937.211452  \n",
       "min       2.000000    20.000000    22.000000  \n",
       "25%     315.500000  2497.000000  3152.000000  \n",
       "50%     713.000000  3662.000000  4548.000000  \n",
       "75%    1096.000000  4776.500000  5956.000000  \n",
       "max    3410.000000  6946.000000  8714.000000  "
      ]
     },
     "execution_count": 7,
     "metadata": {},
     "output_type": "execute_result"
    }
   ],
   "source": [
    "df_bike_share.describe()"
   ]
  },
  {
   "cell_type": "code",
   "execution_count": 8,
   "metadata": {},
   "outputs": [
    {
     "name": "stdout",
     "output_type": "stream",
     "text": [
      "(731, 16)\n"
     ]
    }
   ],
   "source": [
    "# Check the shape of df\n",
    "\n",
    "print(df_bike_share.shape)"
   ]
  },
  {
   "cell_type": "markdown",
   "metadata": {},
   "source": [
    "### Finding : \n",
    "Dataset has 730 rows and 16 columns.\n",
    "\n",
    "Except one column, all other are either float or integer type. \n",
    "\n",
    "One column is date type.\n",
    "\n",
    "Looking at the data, there seems to be some fields that are categorical in nature, but in integer/float type.\n",
    "\n",
    "We will analyse and finalize whether to convert them to categorical or treat as integer."
   ]
  },
  {
   "cell_type": "code",
   "execution_count": 9,
   "metadata": {},
   "outputs": [
    {
     "data": {
      "text/plain": [
       "instant       731\n",
       "dteday        731\n",
       "season          4\n",
       "yr              2\n",
       "mnth           12\n",
       "holiday         2\n",
       "weekday         7\n",
       "workingday      2\n",
       "weathersit      3\n",
       "temp          499\n",
       "atemp         690\n",
       "hum           595\n",
       "windspeed     650\n",
       "casual        606\n",
       "registered    679\n",
       "cnt           696\n",
       "dtype: int64"
      ]
     },
     "execution_count": 9,
     "metadata": {},
     "output_type": "execute_result"
    }
   ],
   "source": [
    "df_bike_share.nunique()"
   ]
  },
  {
   "cell_type": "code",
   "execution_count": 10,
   "metadata": {},
   "outputs": [
    {
     "ename": "NameError",
     "evalue": "name 'df_bike_sharing' is not defined",
     "output_type": "error",
     "traceback": [
      "\u001b[1;31m---------------------------------------------------------------------------\u001b[0m",
      "\u001b[1;31mNameError\u001b[0m                                 Traceback (most recent call last)",
      "\u001b[1;32m<ipython-input-10-545fcddf7c6b>\u001b[0m in \u001b[0;36m<module>\u001b[1;34m\u001b[0m\n\u001b[0;32m      1\u001b[0m \u001b[1;31m# percentage of missing values in each column\u001b[0m\u001b[1;33m\u001b[0m\u001b[1;33m\u001b[0m\u001b[1;33m\u001b[0m\u001b[0m\n\u001b[0;32m      2\u001b[0m \u001b[1;33m\u001b[0m\u001b[0m\n\u001b[1;32m----> 3\u001b[1;33m \u001b[0mround\u001b[0m\u001b[1;33m(\u001b[0m\u001b[1;33m(\u001b[0m\u001b[0mdf_bike_share\u001b[0m\u001b[1;33m.\u001b[0m\u001b[0misnull\u001b[0m\u001b[1;33m(\u001b[0m\u001b[1;33m)\u001b[0m\u001b[1;33m.\u001b[0m\u001b[0msum\u001b[0m\u001b[1;33m(\u001b[0m\u001b[1;33m)\u001b[0m\u001b[1;33m/\u001b[0m\u001b[0mlen\u001b[0m\u001b[1;33m(\u001b[0m\u001b[0mdf_bike_sharing\u001b[0m\u001b[1;33m)\u001b[0m\u001b[1;33m*\u001b[0m\u001b[1;36m100\u001b[0m\u001b[1;33m)\u001b[0m\u001b[1;33m,\u001b[0m \u001b[1;36m2\u001b[0m\u001b[1;33m)\u001b[0m\u001b[1;33m.\u001b[0m\u001b[0msort_values\u001b[0m\u001b[1;33m(\u001b[0m\u001b[0mascending\u001b[0m\u001b[1;33m=\u001b[0m\u001b[1;32mFalse\u001b[0m\u001b[1;33m)\u001b[0m\u001b[1;33m\u001b[0m\u001b[1;33m\u001b[0m\u001b[0m\n\u001b[0m",
      "\u001b[1;31mNameError\u001b[0m: name 'df_bike_sharing' is not defined"
     ]
    }
   ],
   "source": [
    "# percentage of missing values in each column\n",
    "\n",
    "round((df_bike_share.isnull().sum()/len(df_bike_sharing)*100), 2).sort_values(ascending=False)"
   ]
  },
  {
   "cell_type": "markdown",
   "metadata": {},
   "source": [
    "## Finding\n",
    "There are no missing / Null values either in columns or rows"
   ]
  },
  {
   "cell_type": "code",
   "execution_count": null,
   "metadata": {},
   "outputs": [],
   "source": [
    "# Checking for duplicates \n",
    "df_bike_share.duplicated().sum()"
   ]
  },
  {
   "cell_type": "code",
   "execution_count": null,
   "metadata": {},
   "outputs": [],
   "source": [
    "# checking for number of unique values \n",
    "df_bike_share.duplicated().nunique()"
   ]
  },
  {
   "cell_type": "markdown",
   "metadata": {},
   "source": [
    "#  EXPLORATORY DATA ANALYSIS / DATA CLEANING"
   ]
  },
  {
   "cell_type": "code",
   "execution_count": 11,
   "metadata": {},
   "outputs": [],
   "source": [
    "#Creating a copy of the data frame\n",
    "df_bike_sharing = df_bike_share.copy()"
   ]
  },
  {
   "cell_type": "code",
   "execution_count": 12,
   "metadata": {
    "scrolled": true
   },
   "outputs": [
    {
     "data": {
      "text/html": [
       "<div>\n",
       "<style scoped>\n",
       "    .dataframe tbody tr th:only-of-type {\n",
       "        vertical-align: middle;\n",
       "    }\n",
       "\n",
       "    .dataframe tbody tr th {\n",
       "        vertical-align: top;\n",
       "    }\n",
       "\n",
       "    .dataframe thead th {\n",
       "        text-align: right;\n",
       "    }\n",
       "</style>\n",
       "<table border=\"1\" class=\"dataframe\">\n",
       "  <thead>\n",
       "    <tr style=\"text-align: right;\">\n",
       "      <th></th>\n",
       "      <th>instant</th>\n",
       "      <th>dteday</th>\n",
       "      <th>season</th>\n",
       "      <th>yr</th>\n",
       "      <th>mnth</th>\n",
       "      <th>holiday</th>\n",
       "      <th>weekday</th>\n",
       "      <th>workingday</th>\n",
       "      <th>weathersit</th>\n",
       "      <th>temp</th>\n",
       "      <th>atemp</th>\n",
       "      <th>hum</th>\n",
       "      <th>windspeed</th>\n",
       "      <th>casual</th>\n",
       "      <th>registered</th>\n",
       "      <th>cnt</th>\n",
       "    </tr>\n",
       "  </thead>\n",
       "  <tbody>\n",
       "    <tr>\n",
       "      <th>0</th>\n",
       "      <td>1</td>\n",
       "      <td>2011-01-01</td>\n",
       "      <td>1</td>\n",
       "      <td>0</td>\n",
       "      <td>1</td>\n",
       "      <td>0</td>\n",
       "      <td>6</td>\n",
       "      <td>0</td>\n",
       "      <td>2</td>\n",
       "      <td>0.344167</td>\n",
       "      <td>0.363625</td>\n",
       "      <td>0.805833</td>\n",
       "      <td>0.160446</td>\n",
       "      <td>331</td>\n",
       "      <td>654</td>\n",
       "      <td>985</td>\n",
       "    </tr>\n",
       "    <tr>\n",
       "      <th>1</th>\n",
       "      <td>2</td>\n",
       "      <td>2011-01-02</td>\n",
       "      <td>1</td>\n",
       "      <td>0</td>\n",
       "      <td>1</td>\n",
       "      <td>0</td>\n",
       "      <td>0</td>\n",
       "      <td>0</td>\n",
       "      <td>2</td>\n",
       "      <td>0.363478</td>\n",
       "      <td>0.353739</td>\n",
       "      <td>0.696087</td>\n",
       "      <td>0.248539</td>\n",
       "      <td>131</td>\n",
       "      <td>670</td>\n",
       "      <td>801</td>\n",
       "    </tr>\n",
       "    <tr>\n",
       "      <th>2</th>\n",
       "      <td>3</td>\n",
       "      <td>2011-01-03</td>\n",
       "      <td>1</td>\n",
       "      <td>0</td>\n",
       "      <td>1</td>\n",
       "      <td>0</td>\n",
       "      <td>1</td>\n",
       "      <td>1</td>\n",
       "      <td>1</td>\n",
       "      <td>0.196364</td>\n",
       "      <td>0.189405</td>\n",
       "      <td>0.437273</td>\n",
       "      <td>0.248309</td>\n",
       "      <td>120</td>\n",
       "      <td>1229</td>\n",
       "      <td>1349</td>\n",
       "    </tr>\n",
       "    <tr>\n",
       "      <th>3</th>\n",
       "      <td>4</td>\n",
       "      <td>2011-01-04</td>\n",
       "      <td>1</td>\n",
       "      <td>0</td>\n",
       "      <td>1</td>\n",
       "      <td>0</td>\n",
       "      <td>2</td>\n",
       "      <td>1</td>\n",
       "      <td>1</td>\n",
       "      <td>0.200000</td>\n",
       "      <td>0.212122</td>\n",
       "      <td>0.590435</td>\n",
       "      <td>0.160296</td>\n",
       "      <td>108</td>\n",
       "      <td>1454</td>\n",
       "      <td>1562</td>\n",
       "    </tr>\n",
       "    <tr>\n",
       "      <th>4</th>\n",
       "      <td>5</td>\n",
       "      <td>2011-01-05</td>\n",
       "      <td>1</td>\n",
       "      <td>0</td>\n",
       "      <td>1</td>\n",
       "      <td>0</td>\n",
       "      <td>3</td>\n",
       "      <td>1</td>\n",
       "      <td>1</td>\n",
       "      <td>0.226957</td>\n",
       "      <td>0.229270</td>\n",
       "      <td>0.436957</td>\n",
       "      <td>0.186900</td>\n",
       "      <td>82</td>\n",
       "      <td>1518</td>\n",
       "      <td>1600</td>\n",
       "    </tr>\n",
       "  </tbody>\n",
       "</table>\n",
       "</div>"
      ],
      "text/plain": [
       "   instant      dteday  season  yr  mnth  holiday  weekday  workingday  \\\n",
       "0        1  2011-01-01       1   0     1        0        6           0   \n",
       "1        2  2011-01-02       1   0     1        0        0           0   \n",
       "2        3  2011-01-03       1   0     1        0        1           1   \n",
       "3        4  2011-01-04       1   0     1        0        2           1   \n",
       "4        5  2011-01-05       1   0     1        0        3           1   \n",
       "\n",
       "   weathersit      temp     atemp       hum  windspeed  casual  registered  \\\n",
       "0           2  0.344167  0.363625  0.805833   0.160446     331         654   \n",
       "1           2  0.363478  0.353739  0.696087   0.248539     131         670   \n",
       "2           1  0.196364  0.189405  0.437273   0.248309     120        1229   \n",
       "3           1  0.200000  0.212122  0.590435   0.160296     108        1454   \n",
       "4           1  0.226957  0.229270  0.436957   0.186900      82        1518   \n",
       "\n",
       "    cnt  \n",
       "0   985  \n",
       "1   801  \n",
       "2  1349  \n",
       "3  1562  \n",
       "4  1600  "
      ]
     },
     "execution_count": 12,
     "metadata": {},
     "output_type": "execute_result"
    }
   ],
   "source": [
    "df_bike_sharing.head()"
   ]
  },
  {
   "cell_type": "code",
   "execution_count": 13,
   "metadata": {},
   "outputs": [],
   "source": [
    "'''\n",
    "Removing redundant & unwanted columns\n",
    "instant : Its only an index value\n",
    "dteday :  This has the date, Since we already have seperate columns for 'year' & 'month'.\n",
    "          hence, we could live without this column.\n",
    "casual & registered : Both these columns contains the count of bike booked by different categories of customers.\n",
    "                      Moreover, Count=casual+registered\n",
    "\n",
    "'''\n",
    "df_bike_sharing.drop(['instant','dteday','casual','registered'],axis=1,inplace=True)"
   ]
  },
  {
   "cell_type": "code",
   "execution_count": 14,
   "metadata": {},
   "outputs": [],
   "source": [
    "# Convert to 'object' data type\n",
    "\n",
    "df_bike_sharing['season']=df_bike_sharing['season'].astype('object')\n",
    "df_bike_sharing['weathersit']=df_bike_sharing['weathersit'].astype('object')\n",
    "df_bike_sharing['mnth']=df_bike_sharing['mnth'].astype('object')\n",
    "df_bike_sharing['weekday']=df_bike_sharing['weekday'].astype('object')\n",
    "df_bike_sharing['holiday']=df_bike_sharing['holiday'].astype('object')\n",
    "df_bike_sharing['workingday']=df_bike_sharing['workingday'].astype('object')"
   ]
  },
  {
   "cell_type": "code",
   "execution_count": 15,
   "metadata": {},
   "outputs": [],
   "source": [
    "# Renaming the variables with meaningful names.\n",
    "df_bike_sharing.rename(columns={'temp':'temperature_actual','atemp':'temperature_felt','weathersit':'weather_condition',\n",
    "                                'workingday':'working_day','hum':'humidity','mnth':'month','cnt':'count_rental_bikes',\n",
    "                                'yr':'year'},inplace=True)"
   ]
  },
  {
   "cell_type": "code",
   "execution_count": 16,
   "metadata": {},
   "outputs": [],
   "source": [
    "#Mapping the values of the categorical and numerical variabels with meaningful values.\n",
    "df_bike_sharing['working_day']=df_bike_sharing['working_day'].map({0:'not_workingday',1:'yes_workingday'})\n",
    "\n",
    "df_bike_sharing['holiday']=df_bike_sharing['holiday'].map({0:'not_holiday',1:'yes_holiday'})\n",
    "\n",
    "df_bike_sharing['month'] = df_bike_sharing['month'].map({1:\"Jan\", 2:\"Feb\", 3:\"Mar\", 4:\"Apr\", 5:\"May\", 6:\"Jun\", 7:\"Jul\", 8:\"Aug\", \n",
    "                                   9:\"Sep\", 10:\"Oct\", 11:\"Nov\", 12:\"Dec\"})\n",
    "\n",
    "df_bike_sharing['weather_condition'] = df_bike_sharing['weather_condition'].map({1:\"Clear\", 2:\"Cloudy\", 3:\"Light Rain\", 4:\"Heavy Rain\"})\n",
    "\n",
    "df_bike_sharing['season'] = df_bike_sharing['season'].map({1:\"spring\", 2:\"summer\", 3:\"fall\", 4:\"winter\"})\n",
    "\n",
    "df_bike_sharing['weekday'] = df_bike_sharing['weekday'].map({1:'Mon',2:'Tue',3:'Wed',4:'Thu',5:'Fri',6:'Sat',0:'Sun'})\n",
    "df_bike_sharing['year']=df_bike_sharing['year'].map({0:'2018',1:'2019'})"
   ]
  },
  {
   "cell_type": "markdown",
   "metadata": {},
   "source": [
    "## Visualising Variables and their relationship with other variables\n"
   ]
  },
  {
   "cell_type": "code",
   "execution_count": 17,
   "metadata": {},
   "outputs": [
    {
     "data": {
      "image/png": "[encoded data removed]",
      "text/plain": [
       "<Figure size 1008x1152 with 5 Axes>"
      ]
     },
     "metadata": {
      "needs_background": "light"
     },
     "output_type": "display_data"
    }
   ],
   "source": [
    "#Plotting the continous variables to understand the distribution and descriptive stats.\n",
    "\n",
    "plt.figure(figsize=(14,16))\n",
    "\n",
    "plt.suptitle('Distribution of continous variables', fontsize=22)\n",
    "\n",
    "plt.subplot(511)\n",
    "g = sns.boxplot( x='windspeed', data=df_bike_sharing,palette=\"hls\")\n",
    "g.set_xlabel(\"Windspeed\", fontsize=17)\n",
    "g.set_title(\"Distribution:windspeed\", fontsize=20)\n",
    "\n",
    "plt.subplot(512)\n",
    "g1 = sns.boxplot( x=\"temperature_actual\",data=df_bike_sharing, palette = \"hls\")\n",
    "g1.set_xlabel(\"Temperature\", fontsize=17)\n",
    "g1.set_title(\"Distribution:temperature\", fontsize=20)\n",
    "\n",
    "plt.subplot(513)\n",
    "g2 = sns.boxplot(x=\"temperature_felt\", data=df_bike_sharing,palette=\"hls\")\n",
    "g2.set_xlabel(\"Actual Temperature\", fontsize=15)\n",
    "g2.set_title(\"Distribution:actual temperature\", fontsize=20)\n",
    "\n",
    "plt.subplot(514)\n",
    "g3 = sns.boxplot(x=\"humidity\", data=df_bike_sharing,palette=\"hls\")\n",
    "g3.set_xlabel(\"Humidity\", fontsize=15)\n",
    "g3.set_title(\"Distribution:humidity\", fontsize=20)\n",
    "\n",
    "plt.subplot(515)\n",
    "g4 = sns.boxplot( x='count_rental_bikes', data=df_bike_sharing,palette=\"hls\")\n",
    "g4.set_xlabel(\"Count of users\", fontsize=17)\n",
    "g4.set_title(\"Distribution:users\", fontsize=20)\n",
    "\n",
    "\n",
    "\n",
    "plt.subplots_adjust(hspace = 0.8,top = 0.9)\n",
    "\n",
    "plt.show()"
   ]
  },
  {
   "cell_type": "code",
   "execution_count": 18,
   "metadata": {},
   "outputs": [
    {
     "data": {
      "image/png": "[encoded data removed]",
      "text/plain": [
       "<Figure size 1800x720 with 6 Axes>"
      ]
     },
     "metadata": {
      "needs_background": "light"
     },
     "output_type": "display_data"
    }
   ],
   "source": [
    "# Build boxplot of all categorical variables (before creating dummies) againt the target variable 'cnt' \n",
    "# to see how each of the predictor variable stackup against the target variable.\n",
    "\n",
    "plt.figure(figsize=(25, 10))\n",
    "plt.subplot(3,2,1)\n",
    "sns.boxplot(x = 'season', y = 'count_rental_bikes',  data = df_bike_sharing)\n",
    "plt.subplot(3,2,2)\n",
    "sns.boxplot(x = 'month', y = 'count_rental_bikes', data = df_bike_sharing)\n",
    "plt.subplot(3,2,3)\n",
    "sns.boxplot(x = 'weather_condition', y = 'count_rental_bikes', data = df_bike_sharing)\n",
    "plt.subplot(3,2,4)\n",
    "sns.boxplot(x = 'holiday', y = 'count_rental_bikes', data = df_bike_sharing)\n",
    "plt.subplot(3,2,5)\n",
    "sns.boxplot(x = 'weekday', y = 'count_rental_bikes', data = df_bike_sharing)\n",
    "plt.subplot(3,2,6)\n",
    "sns.boxplot(x = 'working_day', y = 'count_rental_bikes', data = df_bike_sharing)\n",
    "plt.show()"
   ]
  },
  {
   "cell_type": "markdown",
   "metadata": {},
   "source": [
    "### Insights\n",
    "There were 6 categorical variables in the dataset. \n",
    "\n",
    "We used Box plot (refer the fig above) to study their effect on the dependent variable (‘cnt’) . \n",
    "\n",
    "The inference that We could derive were: \n",
    "- **season**: Almost 32% of the bike booking were happening in season3 with a median of over 5000 booking (for the period of 2 years). This was followed by season2 & season4 with 27% & 25% of total booking. This indicates, season can be a good predictor for the dependent variable.\n",
    "\n",
    "- **mnth**: Almost 10% of the bike booking were happening in the months 5,6,7,8 & 9 with a median of over 4000 booking per month. This indicates, mnth has some trend for bookings and can be a good predictor for the dependent variable. \n",
    "- **weathersit**: Almost 67% of the bike booking were happening during ‘weathersit1 with a median of close to 5000 booking (for the period of 2 years). This was followed by weathersit2 with 30% of total booking. This indicates, weathersit does show some trend towards the bike bookings can be a good predictor for the dependent variable.\n",
    "- **holiday**: Almost 97.6% of the bike booking were happening when it is not a holiday which means this data is clearly biased. This indicates, holiday CANNOT be a good predictor for the dependent variable. \n",
    "- **weekday**: weekday variable shows very close trend (between 13.5%-14.8% of total booking on all days of the week) having their independent medians between 4000 to 5000 bookings. This variable can have some or no influence towards the predictor. I will let the model decide if this needs to be added or not.\n",
    "- **workingday**: Almost 69% of the bike booking were happening in ‘workingday’ with a median of close to 5000 booking (for the period of 2 years). This indicates, workingday can be a good predictor for the dependent variable"
   ]
  },
  {
   "cell_type": "code",
   "execution_count": 19,
   "metadata": {},
   "outputs": [
    {
     "data": {
      "image/png": "[encoded data removed]",
      "text/plain": [
       "<Figure size 432x288 with 1 Axes>"
      ]
     },
     "metadata": {
      "needs_background": "light"
     },
     "output_type": "display_data"
    }
   ],
   "source": [
    "y=df_bike_sharing.groupby(\"year\")['count_rental_bikes'].mean()\n",
    "x=df_bike_sharing.groupby(\"year\")['count_rental_bikes'].mean().index\n",
    "chart=plt.bar(x,y,color=['cyan','lightgreen'])\n",
    "xticks=[0,1]\n",
    "plt.xticks(xticks,['2018','2019'])\n",
    "plt.title(\"Mean of clients with respect to years\",fontdict={'fontsize':20,'color':'Green'})\n",
    "plt.xlabel(\"Years\",fontdict={'fontsize':16,'color':'Red'})\n",
    "plt.ylabel(\"Total Clients mean\",fontdict={'fontsize':16,'color':'Red'})\n",
    "for rect in chart:\n",
    "    plt.annotate(round(rect.get_height(),2),\n",
    "                 xy=(rect.get_x()+rect.get_width()/2,rect.get_height())\n",
    "                 ,textcoords='data'\n",
    "                ,va='bottom'\n",
    "                ,ha='center')\n",
    "plt.show()\n",
    "#Observation-: we can see there is a huge boost in the demand or total clients in 2019 in comparision to 2018, which can be a sign of increasing popularity of the brand."
   ]
  },
  {
   "cell_type": "code",
   "execution_count": 20,
   "metadata": {},
   "outputs": [
    {
     "data": {
      "text/plain": [
       "<AxesSubplot:xlabel='month', ylabel='count_rental_bikes'>"
      ]
     },
     "execution_count": 20,
     "metadata": {},
     "output_type": "execute_result"
    },
    {
     "data": {
      "image/png": "[encoded data removed]",
      "text/plain": [
       "<Figure size 720x360 with 1 Axes>"
      ]
     },
     "metadata": {
      "needs_background": "light"
     },
     "output_type": "display_data"
    }
   ],
   "source": [
    "plt.figure(figsize=(10,5))\n",
    "sns.barplot('month','count_rental_bikes',hue='year',data=df_bike_sharing,palette='Paired')"
   ]
  },
  {
   "cell_type": "code",
   "execution_count": 21,
   "metadata": {},
   "outputs": [
    {
     "data": {
      "image/png": "[encoded data removed]",
      "text/plain": [
       "<Figure size 1440x720 with 1 Axes>"
      ]
     },
     "metadata": {
      "needs_background": "light"
     },
     "output_type": "display_data"
    }
   ],
   "source": [
    "plt.figure(figsize = (20,10))\n",
    "sns.lineplot(x = 'month', y = 'windspeed', data = df_bike_sharing, estimator = np.average, hue = 'weather_condition', palette = 'coolwarm')\n",
    "plt.ylabel('Average Count')\n",
    "plt.show()"
   ]
  },
  {
   "cell_type": "code",
   "execution_count": 22,
   "metadata": {},
   "outputs": [
    {
     "data": {
      "text/plain": [
       "<AxesSubplot:xlabel='weekday', ylabel='count_rental_bikes'>"
      ]
     },
     "execution_count": 22,
     "metadata": {},
     "output_type": "execute_result"
    },
    {
     "data": {
      "image/png": "[encoded data removed]",
      "text/plain": [
       "<Figure size 1440x720 with 1 Axes>"
      ]
     },
     "metadata": {
      "needs_background": "light"
     },
     "output_type": "display_data"
    }
   ],
   "source": [
    "plt.figure(figsize = (20,10))\n",
    "sns.pointplot(x = 'weekday', y = 'count_rental_bikes', data = df_bike_sharing, estimator=np.average, hue = 'weather_condition', palette='coolwarm')"
   ]
  },
  {
   "cell_type": "code",
   "execution_count": 23,
   "metadata": {},
   "outputs": [
    {
     "ename": "NameError",
     "evalue": "name 'bike_num_feat' is not defined",
     "output_type": "error",
     "traceback": [
      "\u001b[1;31m---------------------------------------------------------------------------\u001b[0m",
      "\u001b[1;31mNameError\u001b[0m                                 Traceback (most recent call last)",
      "\u001b[1;32m<ipython-input-23-6861fa6b3e45>\u001b[0m in \u001b[0;36m<module>\u001b[1;34m\u001b[0m\n\u001b[0;32m      3\u001b[0m \u001b[0mbike_num_features\u001b[0m\u001b[1;33m=\u001b[0m\u001b[0mdf_bike_sharing\u001b[0m\u001b[1;33m[\u001b[0m\u001b[1;33m[\u001b[0m \u001b[1;34m'temperature_actual'\u001b[0m\u001b[1;33m,\u001b[0m \u001b[1;34m'temperature_felt'\u001b[0m\u001b[1;33m,\u001b[0m \u001b[1;34m'humidity'\u001b[0m\u001b[1;33m,\u001b[0m \u001b[1;34m'windspeed'\u001b[0m\u001b[1;33m,\u001b[0m\u001b[1;34m'count_rental_bikes'\u001b[0m\u001b[1;33m]\u001b[0m\u001b[1;33m]\u001b[0m\u001b[1;33m\u001b[0m\u001b[1;33m\u001b[0m\u001b[0m\n\u001b[0;32m      4\u001b[0m \u001b[1;33m\u001b[0m\u001b[0m\n\u001b[1;32m----> 5\u001b[1;33m \u001b[0msns\u001b[0m\u001b[1;33m.\u001b[0m\u001b[0mpairplot\u001b[0m\u001b[1;33m(\u001b[0m\u001b[0mbike_num_feat\u001b[0m\u001b[1;33m,\u001b[0m \u001b[0mdiag_kind\u001b[0m\u001b[1;33m=\u001b[0m\u001b[1;34m'kde'\u001b[0m\u001b[1;33m)\u001b[0m\u001b[1;33m\u001b[0m\u001b[1;33m\u001b[0m\u001b[0m\n\u001b[0m\u001b[0;32m      6\u001b[0m \u001b[0mplt\u001b[0m\u001b[1;33m.\u001b[0m\u001b[0mshow\u001b[0m\u001b[1;33m(\u001b[0m\u001b[1;33m)\u001b[0m\u001b[1;33m\u001b[0m\u001b[1;33m\u001b[0m\u001b[0m\n",
      "\u001b[1;31mNameError\u001b[0m: name 'bike_num_feat' is not defined"
     ]
    }
   ],
   "source": [
    "# Create a new dataframe of only numeric variables:\n",
    "\n",
    "bike_num_features=df_bike_sharing[[ 'temperature_actual', 'temperature_felt', 'humidity', 'windspeed','count_rental_bikes']]\n",
    "\n",
    "sns.pairplot(bike_num_feat, diag_kind='kde')\n",
    "plt.show()"
   ]
  },
  {
   "cell_type": "markdown",
   "metadata": {},
   "source": [
    "## Correlation Matrix"
   ]
  },
  {
   "cell_type": "code",
   "execution_count": 24,
   "metadata": {},
   "outputs": [
    {
     "data": {
      "image/png": "[encoded data removed]",
      "text/plain": [
       "<Figure size 1800x1440 with 2 Axes>"
      ]
     },
     "metadata": {
      "needs_background": "light"
     },
     "output_type": "display_data"
    }
   ],
   "source": [
    "# Let's check the correlation coefficients to see which variables are highly correlated. Note:\n",
    "# here we are considering only those variables (dataframe: bike_new) that were chosen for analysis\n",
    "\n",
    "plt.figure(figsize = (25,20))\n",
    "sns.heatmap(bike_num_features.corr(), annot = True, cmap=\"viridis\")\n",
    "plt.show()"
   ]
  },
  {
   "cell_type": "markdown",
   "metadata": {},
   "source": [
    "### Insights:\n",
    " - The heatmap clearly shows which all variable are multicollinear in nature, and which variable have high collinearity with the target variable.\n",
    " - We will refer this map back-and-forth while building the linear model so as to validate different correlated values along with VIF & p-value, for identifying the correct variable to select/eliminate from the model."
   ]
  },
  {
   "cell_type": "code",
   "execution_count": 25,
   "metadata": {
    "scrolled": true
   },
   "outputs": [
    {
     "data": {
      "text/html": [
       "<div>\n",
       "<style scoped>\n",
       "    .dataframe tbody tr th:only-of-type {\n",
       "        vertical-align: middle;\n",
       "    }\n",
       "\n",
       "    .dataframe tbody tr th {\n",
       "        vertical-align: top;\n",
       "    }\n",
       "\n",
       "    .dataframe thead th {\n",
       "        text-align: right;\n",
       "    }\n",
       "</style>\n",
       "<table border=\"1\" class=\"dataframe\">\n",
       "  <thead>\n",
       "    <tr style=\"text-align: right;\">\n",
       "      <th></th>\n",
       "      <th>season</th>\n",
       "      <th>year</th>\n",
       "      <th>month</th>\n",
       "      <th>holiday</th>\n",
       "      <th>weekday</th>\n",
       "      <th>working_day</th>\n",
       "      <th>weather_condition</th>\n",
       "      <th>temperature_actual</th>\n",
       "      <th>temperature_felt</th>\n",
       "      <th>humidity</th>\n",
       "      <th>windspeed</th>\n",
       "      <th>count_rental_bikes</th>\n",
       "    </tr>\n",
       "  </thead>\n",
       "  <tbody>\n",
       "    <tr>\n",
       "      <th>0</th>\n",
       "      <td>spring</td>\n",
       "      <td>2018</td>\n",
       "      <td>Jan</td>\n",
       "      <td>not_holiday</td>\n",
       "      <td>Sat</td>\n",
       "      <td>not_workingday</td>\n",
       "      <td>Cloudy</td>\n",
       "      <td>0.344167</td>\n",
       "      <td>0.363625</td>\n",
       "      <td>0.805833</td>\n",
       "      <td>0.160446</td>\n",
       "      <td>985</td>\n",
       "    </tr>\n",
       "    <tr>\n",
       "      <th>1</th>\n",
       "      <td>spring</td>\n",
       "      <td>2018</td>\n",
       "      <td>Jan</td>\n",
       "      <td>not_holiday</td>\n",
       "      <td>Sun</td>\n",
       "      <td>not_workingday</td>\n",
       "      <td>Cloudy</td>\n",
       "      <td>0.363478</td>\n",
       "      <td>0.353739</td>\n",
       "      <td>0.696087</td>\n",
       "      <td>0.248539</td>\n",
       "      <td>801</td>\n",
       "    </tr>\n",
       "    <tr>\n",
       "      <th>2</th>\n",
       "      <td>spring</td>\n",
       "      <td>2018</td>\n",
       "      <td>Jan</td>\n",
       "      <td>not_holiday</td>\n",
       "      <td>Mon</td>\n",
       "      <td>yes_workingday</td>\n",
       "      <td>Clear</td>\n",
       "      <td>0.196364</td>\n",
       "      <td>0.189405</td>\n",
       "      <td>0.437273</td>\n",
       "      <td>0.248309</td>\n",
       "      <td>1349</td>\n",
       "    </tr>\n",
       "    <tr>\n",
       "      <th>3</th>\n",
       "      <td>spring</td>\n",
       "      <td>2018</td>\n",
       "      <td>Jan</td>\n",
       "      <td>not_holiday</td>\n",
       "      <td>Tue</td>\n",
       "      <td>yes_workingday</td>\n",
       "      <td>Clear</td>\n",
       "      <td>0.200000</td>\n",
       "      <td>0.212122</td>\n",
       "      <td>0.590435</td>\n",
       "      <td>0.160296</td>\n",
       "      <td>1562</td>\n",
       "    </tr>\n",
       "    <tr>\n",
       "      <th>4</th>\n",
       "      <td>spring</td>\n",
       "      <td>2018</td>\n",
       "      <td>Jan</td>\n",
       "      <td>not_holiday</td>\n",
       "      <td>Wed</td>\n",
       "      <td>yes_workingday</td>\n",
       "      <td>Clear</td>\n",
       "      <td>0.226957</td>\n",
       "      <td>0.229270</td>\n",
       "      <td>0.436957</td>\n",
       "      <td>0.186900</td>\n",
       "      <td>1600</td>\n",
       "    </tr>\n",
       "  </tbody>\n",
       "</table>\n",
       "</div>"
      ],
      "text/plain": [
       "   season  year month      holiday weekday     working_day weather_condition  \\\n",
       "0  spring  2018   Jan  not_holiday     Sat  not_workingday            Cloudy   \n",
       "1  spring  2018   Jan  not_holiday     Sun  not_workingday            Cloudy   \n",
       "2  spring  2018   Jan  not_holiday     Mon  yes_workingday             Clear   \n",
       "3  spring  2018   Jan  not_holiday     Tue  yes_workingday             Clear   \n",
       "4  spring  2018   Jan  not_holiday     Wed  yes_workingday             Clear   \n",
       "\n",
       "   temperature_actual  temperature_felt  humidity  windspeed  \\\n",
       "0            0.344167          0.363625  0.805833   0.160446   \n",
       "1            0.363478          0.353739  0.696087   0.248539   \n",
       "2            0.196364          0.189405  0.437273   0.248309   \n",
       "3            0.200000          0.212122  0.590435   0.160296   \n",
       "4            0.226957          0.229270  0.436957   0.186900   \n",
       "\n",
       "   count_rental_bikes  \n",
       "0                 985  \n",
       "1                 801  \n",
       "2                1349  \n",
       "3                1562  \n",
       "4                1600  "
      ]
     },
     "execution_count": 25,
     "metadata": {},
     "output_type": "execute_result"
    }
   ],
   "source": [
    "df_bike_sharing.head(5)"
   ]
  },
  {
   "cell_type": "code",
   "execution_count": 26,
   "metadata": {},
   "outputs": [],
   "source": [
    "#temperature_actual and temperature_felt have very high correlation of 0.99. hence, temperature_felt will be dropped\n",
    "df_bike_sharing.drop(['temperature_felt'],axis=1,inplace=True)"
   ]
  },
  {
   "cell_type": "code",
   "execution_count": 27,
   "metadata": {
    "scrolled": true
   },
   "outputs": [
    {
     "name": "stdout",
     "output_type": "stream",
     "text": [
      "<class 'pandas.core.frame.DataFrame'>\n",
      "RangeIndex: 731 entries, 0 to 730\n",
      "Data columns (total 29 columns):\n",
      " #   Column                        Non-Null Count  Dtype  \n",
      "---  ------                        --------------  -----  \n",
      " 0   temperature_actual            731 non-null    float64\n",
      " 1   humidity                      731 non-null    float64\n",
      " 2   windspeed                     731 non-null    float64\n",
      " 3   count_rental_bikes            731 non-null    int64  \n",
      " 4   season_spring                 731 non-null    uint8  \n",
      " 5   season_summer                 731 non-null    uint8  \n",
      " 6   season_winter                 731 non-null    uint8  \n",
      " 7   year_2019                     731 non-null    uint8  \n",
      " 8   month_Aug                     731 non-null    uint8  \n",
      " 9   month_Dec                     731 non-null    uint8  \n",
      " 10  month_Feb                     731 non-null    uint8  \n",
      " 11  month_Jan                     731 non-null    uint8  \n",
      " 12  month_Jul                     731 non-null    uint8  \n",
      " 13  month_Jun                     731 non-null    uint8  \n",
      " 14  month_Mar                     731 non-null    uint8  \n",
      " 15  month_May                     731 non-null    uint8  \n",
      " 16  month_Nov                     731 non-null    uint8  \n",
      " 17  month_Oct                     731 non-null    uint8  \n",
      " 18  month_Sep                     731 non-null    uint8  \n",
      " 19  holiday_yes_holiday           731 non-null    uint8  \n",
      " 20  weekday_Mon                   731 non-null    uint8  \n",
      " 21  weekday_Sat                   731 non-null    uint8  \n",
      " 22  weekday_Sun                   731 non-null    uint8  \n",
      " 23  weekday_Thu                   731 non-null    uint8  \n",
      " 24  weekday_Tue                   731 non-null    uint8  \n",
      " 25  weekday_Wed                   731 non-null    uint8  \n",
      " 26  working_day_yes_workingday    731 non-null    uint8  \n",
      " 27  weather_condition_Cloudy      731 non-null    uint8  \n",
      " 28  weather_condition_Light Rain  731 non-null    uint8  \n",
      "dtypes: float64(3), int64(1), uint8(25)\n",
      "memory usage: 40.8 KB\n"
     ]
    }
   ],
   "source": [
    "# Creating Dummy variable for categorical and numerical variables.\n",
    "df_bike_sharing_dummies = pd.get_dummies(df_bike_sharing, drop_first=True)\n",
    "df_bike_sharing_dummies.info()"
   ]
  },
  {
   "cell_type": "code",
   "execution_count": 28,
   "metadata": {},
   "outputs": [
    {
     "name": "stdout",
     "output_type": "stream",
     "text": [
      "df_train  (511, 29)\n",
      "df_test  (220, 29)\n"
     ]
    }
   ],
   "source": [
    "#Splitting the dataset into Test and Train\n",
    "# We should specify 'random_state' so that the train and test data set always have the same rows, respectively\n",
    "#printing the shape of the train and test datasets.\n",
    "np.random.seed(0)\n",
    "df_train,df_test= train_test_split(df_bike_sharing_dummies,train_size = 0.70, random_state = 0)\n",
    "print(\"df_train \",df_train.shape)\n",
    "print(\"df_test \",df_test.shape)\n"
   ]
  },
  {
   "cell_type": "markdown",
   "metadata": {},
   "source": [
    "# RESCALING THE FEATURES"
   ]
  },
  {
   "cell_type": "code",
   "execution_count": 29,
   "metadata": {},
   "outputs": [],
   "source": [
    "#Creating an instance : scaler for MinMaxScaler\n",
    "scaler = MinMaxScaler()"
   ]
  },
  {
   "cell_type": "code",
   "execution_count": 30,
   "metadata": {
    "scrolled": true
   },
   "outputs": [
    {
     "data": {
      "text/html": [
       "<div>\n",
       "<style scoped>\n",
       "    .dataframe tbody tr th:only-of-type {\n",
       "        vertical-align: middle;\n",
       "    }\n",
       "\n",
       "    .dataframe tbody tr th {\n",
       "        vertical-align: top;\n",
       "    }\n",
       "\n",
       "    .dataframe thead th {\n",
       "        text-align: right;\n",
       "    }\n",
       "</style>\n",
       "<table border=\"1\" class=\"dataframe\">\n",
       "  <thead>\n",
       "    <tr style=\"text-align: right;\">\n",
       "      <th></th>\n",
       "      <th>temperature_actual</th>\n",
       "      <th>humidity</th>\n",
       "      <th>windspeed</th>\n",
       "      <th>count_rental_bikes</th>\n",
       "      <th>season_spring</th>\n",
       "      <th>season_summer</th>\n",
       "      <th>season_winter</th>\n",
       "      <th>year_2019</th>\n",
       "      <th>month_Aug</th>\n",
       "      <th>month_Dec</th>\n",
       "      <th>month_Feb</th>\n",
       "      <th>month_Jan</th>\n",
       "      <th>month_Jul</th>\n",
       "      <th>month_Jun</th>\n",
       "      <th>month_Mar</th>\n",
       "      <th>month_May</th>\n",
       "      <th>month_Nov</th>\n",
       "      <th>month_Oct</th>\n",
       "      <th>month_Sep</th>\n",
       "      <th>holiday_yes_holiday</th>\n",
       "      <th>weekday_Mon</th>\n",
       "      <th>weekday_Sat</th>\n",
       "      <th>weekday_Sun</th>\n",
       "      <th>weekday_Thu</th>\n",
       "      <th>weekday_Tue</th>\n",
       "      <th>weekday_Wed</th>\n",
       "      <th>working_day_yes_workingday</th>\n",
       "      <th>weather_condition_Cloudy</th>\n",
       "      <th>weather_condition_Light Rain</th>\n",
       "    </tr>\n",
       "  </thead>\n",
       "  <tbody>\n",
       "    <tr>\n",
       "      <th>524</th>\n",
       "      <td>0.734271</td>\n",
       "      <td>0.275719</td>\n",
       "      <td>0.350234</td>\n",
       "      <td>0.904020</td>\n",
       "      <td>0</td>\n",
       "      <td>1</td>\n",
       "      <td>0</td>\n",
       "      <td>1</td>\n",
       "      <td>0</td>\n",
       "      <td>0</td>\n",
       "      <td>0</td>\n",
       "      <td>0</td>\n",
       "      <td>0</td>\n",
       "      <td>1</td>\n",
       "      <td>0</td>\n",
       "      <td>0</td>\n",
       "      <td>0</td>\n",
       "      <td>0</td>\n",
       "      <td>0</td>\n",
       "      <td>0</td>\n",
       "      <td>0</td>\n",
       "      <td>0</td>\n",
       "      <td>0</td>\n",
       "      <td>0</td>\n",
       "      <td>0</td>\n",
       "      <td>0</td>\n",
       "      <td>1</td>\n",
       "      <td>0</td>\n",
       "      <td>0</td>\n",
       "    </tr>\n",
       "    <tr>\n",
       "      <th>12</th>\n",
       "      <td>0.090983</td>\n",
       "      <td>0.279307</td>\n",
       "      <td>0.680831</td>\n",
       "      <td>0.162194</td>\n",
       "      <td>1</td>\n",
       "      <td>0</td>\n",
       "      <td>0</td>\n",
       "      <td>0</td>\n",
       "      <td>0</td>\n",
       "      <td>0</td>\n",
       "      <td>0</td>\n",
       "      <td>1</td>\n",
       "      <td>0</td>\n",
       "      <td>0</td>\n",
       "      <td>0</td>\n",
       "      <td>0</td>\n",
       "      <td>0</td>\n",
       "      <td>0</td>\n",
       "      <td>0</td>\n",
       "      <td>0</td>\n",
       "      <td>0</td>\n",
       "      <td>0</td>\n",
       "      <td>0</td>\n",
       "      <td>1</td>\n",
       "      <td>0</td>\n",
       "      <td>0</td>\n",
       "      <td>1</td>\n",
       "      <td>0</td>\n",
       "      <td>0</td>\n",
       "    </tr>\n",
       "    <tr>\n",
       "      <th>161</th>\n",
       "      <td>0.835026</td>\n",
       "      <td>0.543660</td>\n",
       "      <td>0.296196</td>\n",
       "      <td>0.579398</td>\n",
       "      <td>0</td>\n",
       "      <td>1</td>\n",
       "      <td>0</td>\n",
       "      <td>0</td>\n",
       "      <td>0</td>\n",
       "      <td>0</td>\n",
       "      <td>0</td>\n",
       "      <td>0</td>\n",
       "      <td>0</td>\n",
       "      <td>1</td>\n",
       "      <td>0</td>\n",
       "      <td>0</td>\n",
       "      <td>0</td>\n",
       "      <td>0</td>\n",
       "      <td>0</td>\n",
       "      <td>0</td>\n",
       "      <td>0</td>\n",
       "      <td>1</td>\n",
       "      <td>0</td>\n",
       "      <td>0</td>\n",
       "      <td>0</td>\n",
       "      <td>0</td>\n",
       "      <td>0</td>\n",
       "      <td>0</td>\n",
       "      <td>0</td>\n",
       "    </tr>\n",
       "    <tr>\n",
       "      <th>556</th>\n",
       "      <td>0.829489</td>\n",
       "      <td>0.562201</td>\n",
       "      <td>0.288003</td>\n",
       "      <td>0.734560</td>\n",
       "      <td>0</td>\n",
       "      <td>0</td>\n",
       "      <td>0</td>\n",
       "      <td>1</td>\n",
       "      <td>0</td>\n",
       "      <td>0</td>\n",
       "      <td>0</td>\n",
       "      <td>0</td>\n",
       "      <td>1</td>\n",
       "      <td>0</td>\n",
       "      <td>0</td>\n",
       "      <td>0</td>\n",
       "      <td>0</td>\n",
       "      <td>0</td>\n",
       "      <td>0</td>\n",
       "      <td>0</td>\n",
       "      <td>0</td>\n",
       "      <td>0</td>\n",
       "      <td>0</td>\n",
       "      <td>0</td>\n",
       "      <td>1</td>\n",
       "      <td>0</td>\n",
       "      <td>1</td>\n",
       "      <td>1</td>\n",
       "      <td>0</td>\n",
       "    </tr>\n",
       "    <tr>\n",
       "      <th>502</th>\n",
       "      <td>0.660087</td>\n",
       "      <td>0.350479</td>\n",
       "      <td>0.492593</td>\n",
       "      <td>0.862768</td>\n",
       "      <td>0</td>\n",
       "      <td>1</td>\n",
       "      <td>0</td>\n",
       "      <td>1</td>\n",
       "      <td>0</td>\n",
       "      <td>0</td>\n",
       "      <td>0</td>\n",
       "      <td>0</td>\n",
       "      <td>0</td>\n",
       "      <td>0</td>\n",
       "      <td>0</td>\n",
       "      <td>1</td>\n",
       "      <td>0</td>\n",
       "      <td>0</td>\n",
       "      <td>0</td>\n",
       "      <td>0</td>\n",
       "      <td>0</td>\n",
       "      <td>0</td>\n",
       "      <td>0</td>\n",
       "      <td>1</td>\n",
       "      <td>0</td>\n",
       "      <td>0</td>\n",
       "      <td>1</td>\n",
       "      <td>0</td>\n",
       "      <td>0</td>\n",
       "    </tr>\n",
       "  </tbody>\n",
       "</table>\n",
       "</div>"
      ],
      "text/plain": [
       "     temperature_actual  humidity  windspeed  count_rental_bikes  \\\n",
       "524            0.734271  0.275719   0.350234            0.904020   \n",
       "12             0.090983  0.279307   0.680831            0.162194   \n",
       "161            0.835026  0.543660   0.296196            0.579398   \n",
       "556            0.829489  0.562201   0.288003            0.734560   \n",
       "502            0.660087  0.350479   0.492593            0.862768   \n",
       "\n",
       "     season_spring  season_summer  season_winter  year_2019  month_Aug  \\\n",
       "524              0              1              0          1          0   \n",
       "12               1              0              0          0          0   \n",
       "161              0              1              0          0          0   \n",
       "556              0              0              0          1          0   \n",
       "502              0              1              0          1          0   \n",
       "\n",
       "     month_Dec  month_Feb  month_Jan  month_Jul  month_Jun  month_Mar  \\\n",
       "524          0          0          0          0          1          0   \n",
       "12           0          0          1          0          0          0   \n",
       "161          0          0          0          0          1          0   \n",
       "556          0          0          0          1          0          0   \n",
       "502          0          0          0          0          0          0   \n",
       "\n",
       "     month_May  month_Nov  month_Oct  month_Sep  holiday_yes_holiday  \\\n",
       "524          0          0          0          0                    0   \n",
       "12           0          0          0          0                    0   \n",
       "161          0          0          0          0                    0   \n",
       "556          0          0          0          0                    0   \n",
       "502          1          0          0          0                    0   \n",
       "\n",
       "     weekday_Mon  weekday_Sat  weekday_Sun  weekday_Thu  weekday_Tue  \\\n",
       "524            0            0            0            0            0   \n",
       "12             0            0            0            1            0   \n",
       "161            0            1            0            0            0   \n",
       "556            0            0            0            0            1   \n",
       "502            0            0            0            1            0   \n",
       "\n",
       "     weekday_Wed  working_day_yes_workingday  weather_condition_Cloudy  \\\n",
       "524            0                           1                         0   \n",
       "12             0                           1                         0   \n",
       "161            0                           0                         0   \n",
       "556            0                           1                         1   \n",
       "502            0                           1                         0   \n",
       "\n",
       "     weather_condition_Light Rain  \n",
       "524                             0  \n",
       "12                              0  \n",
       "161                             0  \n",
       "556                             0  \n",
       "502                             0  "
      ]
     },
     "execution_count": 30,
     "metadata": {},
     "output_type": "execute_result"
    }
   ],
   "source": [
    "# Apply scaler to all the continous variables\n",
    "num_feats=[ 'humidity','temperature_actual','windspeed','count_rental_bikes']\n",
    "df_train[num_feats]= scaler.fit_transform(df_train[num_feats])\n",
    "df_train.head()"
   ]
  },
  {
   "cell_type": "markdown",
   "metadata": {},
   "source": [
    "### Feature Selection using Recursive feature elimination:"
   ]
  },
  {
   "cell_type": "code",
   "execution_count": 31,
   "metadata": {},
   "outputs": [],
   "source": [
    "#Splitting the train dataset into Explanatory variables: X_train and Target variable: y_train\n",
    "y_train=df_train.pop('count_rental_bikes')\n",
    "X_train=df_train"
   ]
  },
  {
   "cell_type": "code",
   "execution_count": 32,
   "metadata": {},
   "outputs": [],
   "source": [
    "# Importing RFE and LinearRegression\n",
    "from sklearn.feature_selection import RFE\n",
    "from sklearn.linear_model import LinearRegression"
   ]
  },
  {
   "cell_type": "code",
   "execution_count": 33,
   "metadata": {},
   "outputs": [],
   "source": [
    "#Importing statsmodels\n",
    "import statsmodels.api as sm\n",
    "\n",
    "# Add a constant\n",
    "X_train_lm = sm.add_constant(X_train)\n",
    "\n",
    "# Create a first fitted model\n",
    "lr = sm.OLS(y_train, X_train_lm).fit()"
   ]
  },
  {
   "cell_type": "code",
   "execution_count": 34,
   "metadata": {},
   "outputs": [
    {
     "data": {
      "text/html": [
       "<table class=\"simpletable\">\n",
       "<caption>OLS Regression Results</caption>\n",
       "<tr>\n",
       "  <th>Dep. Variable:</th>    <td>count_rental_bikes</td> <th>  R-squared:         </th> <td>   0.838</td> \n",
       "</tr>\n",
       "<tr>\n",
       "  <th>Model:</th>                    <td>OLS</td>        <th>  Adj. R-squared:    </th> <td>   0.829</td> \n",
       "</tr>\n",
       "<tr>\n",
       "  <th>Method:</th>              <td>Least Squares</td>   <th>  F-statistic:       </th> <td>   92.55</td> \n",
       "</tr>\n",
       "<tr>\n",
       "  <th>Date:</th>              <td>Sun, 12 Dec 2021</td>  <th>  Prob (F-statistic):</th> <td>6.85e-172</td>\n",
       "</tr>\n",
       "<tr>\n",
       "  <th>Time:</th>                  <td>12:37:49</td>      <th>  Log-Likelihood:    </th> <td>  509.45</td> \n",
       "</tr>\n",
       "<tr>\n",
       "  <th>No. Observations:</th>       <td>   511</td>       <th>  AIC:               </th> <td>  -962.9</td> \n",
       "</tr>\n",
       "<tr>\n",
       "  <th>Df Residuals:</th>           <td>   483</td>       <th>  BIC:               </th> <td>  -844.3</td> \n",
       "</tr>\n",
       "<tr>\n",
       "  <th>Df Model:</th>               <td>    27</td>       <th>                     </th>     <td> </td>    \n",
       "</tr>\n",
       "<tr>\n",
       "  <th>Covariance Type:</th>       <td>nonrobust</td>     <th>                     </th>     <td> </td>    \n",
       "</tr>\n",
       "</table>\n",
       "<table class=\"simpletable\">\n",
       "<tr>\n",
       "                <td></td>                  <th>coef</th>     <th>std err</th>      <th>t</th>      <th>P>|t|</th>  <th>[0.025</th>    <th>0.975]</th>  \n",
       "</tr>\n",
       "<tr>\n",
       "  <th>const</th>                        <td>    0.2902</td> <td>    0.033</td> <td>    8.729</td> <td> 0.000</td> <td>    0.225</td> <td>    0.356</td>\n",
       "</tr>\n",
       "<tr>\n",
       "  <th>temperature_actual</th>           <td>    0.4293</td> <td>    0.046</td> <td>    9.432</td> <td> 0.000</td> <td>    0.340</td> <td>    0.519</td>\n",
       "</tr>\n",
       "<tr>\n",
       "  <th>humidity</th>                     <td>   -0.1510</td> <td>    0.031</td> <td>   -4.864</td> <td> 0.000</td> <td>   -0.212</td> <td>   -0.090</td>\n",
       "</tr>\n",
       "<tr>\n",
       "  <th>windspeed</th>                    <td>   -0.1510</td> <td>    0.022</td> <td>   -6.743</td> <td> 0.000</td> <td>   -0.195</td> <td>   -0.107</td>\n",
       "</tr>\n",
       "<tr>\n",
       "  <th>season_spring</th>                <td>   -0.1179</td> <td>    0.031</td> <td>   -3.815</td> <td> 0.000</td> <td>   -0.179</td> <td>   -0.057</td>\n",
       "</tr>\n",
       "<tr>\n",
       "  <th>season_summer</th>                <td>   -0.0149</td> <td>    0.025</td> <td>   -0.587</td> <td> 0.557</td> <td>   -0.065</td> <td>    0.035</td>\n",
       "</tr>\n",
       "<tr>\n",
       "  <th>season_winter</th>                <td>    0.0642</td> <td>    0.030</td> <td>    2.160</td> <td> 0.031</td> <td>    0.006</td> <td>    0.123</td>\n",
       "</tr>\n",
       "<tr>\n",
       "  <th>year_2019</th>                    <td>    0.2243</td> <td>    0.008</td> <td>   26.512</td> <td> 0.000</td> <td>    0.208</td> <td>    0.241</td>\n",
       "</tr>\n",
       "<tr>\n",
       "  <th>month_Aug</th>                    <td>   -0.0296</td> <td>    0.034</td> <td>   -0.865</td> <td> 0.387</td> <td>   -0.097</td> <td>    0.038</td>\n",
       "</tr>\n",
       "<tr>\n",
       "  <th>month_Dec</th>                    <td>   -0.0461</td> <td>    0.035</td> <td>   -1.322</td> <td> 0.187</td> <td>   -0.115</td> <td>    0.022</td>\n",
       "</tr>\n",
       "<tr>\n",
       "  <th>month_Feb</th>                    <td>   -0.0238</td> <td>    0.033</td> <td>   -0.712</td> <td> 0.477</td> <td>   -0.089</td> <td>    0.042</td>\n",
       "</tr>\n",
       "<tr>\n",
       "  <th>month_Jan</th>                    <td>   -0.0373</td> <td>    0.034</td> <td>   -1.085</td> <td> 0.279</td> <td>   -0.105</td> <td>    0.030</td>\n",
       "</tr>\n",
       "<tr>\n",
       "  <th>month_Jul</th>                    <td>   -0.0762</td> <td>    0.035</td> <td>   -2.150</td> <td> 0.032</td> <td>   -0.146</td> <td>   -0.007</td>\n",
       "</tr>\n",
       "<tr>\n",
       "  <th>month_Jun</th>                    <td>   -0.0295</td> <td>    0.026</td> <td>   -1.143</td> <td> 0.254</td> <td>   -0.080</td> <td>    0.021</td>\n",
       "</tr>\n",
       "<tr>\n",
       "  <th>month_Mar</th>                    <td>    0.0220</td> <td>    0.026</td> <td>    0.858</td> <td> 0.391</td> <td>   -0.028</td> <td>    0.072</td>\n",
       "</tr>\n",
       "<tr>\n",
       "  <th>month_May</th>                    <td>    0.0332</td> <td>    0.021</td> <td>    1.570</td> <td> 0.117</td> <td>   -0.008</td> <td>    0.075</td>\n",
       "</tr>\n",
       "<tr>\n",
       "  <th>month_Nov</th>                    <td>   -0.0629</td> <td>    0.038</td> <td>   -1.659</td> <td> 0.098</td> <td>   -0.137</td> <td>    0.012</td>\n",
       "</tr>\n",
       "<tr>\n",
       "  <th>month_Oct</th>                    <td>    0.0181</td> <td>    0.037</td> <td>    0.490</td> <td> 0.624</td> <td>   -0.055</td> <td>    0.091</td>\n",
       "</tr>\n",
       "<tr>\n",
       "  <th>month_Sep</th>                    <td>    0.0530</td> <td>    0.032</td> <td>    1.651</td> <td> 0.099</td> <td>   -0.010</td> <td>    0.116</td>\n",
       "</tr>\n",
       "<tr>\n",
       "  <th>holiday_yes_holiday</th>          <td>    0.0478</td> <td>    0.023</td> <td>    2.122</td> <td> 0.034</td> <td>    0.004</td> <td>    0.092</td>\n",
       "</tr>\n",
       "<tr>\n",
       "  <th>weekday_Mon</th>                  <td>   -0.0258</td> <td>    0.016</td> <td>   -1.624</td> <td> 0.105</td> <td>   -0.057</td> <td>    0.005</td>\n",
       "</tr>\n",
       "<tr>\n",
       "  <th>weekday_Sat</th>                  <td>    0.0919</td> <td>    0.014</td> <td>    6.637</td> <td> 0.000</td> <td>    0.065</td> <td>    0.119</td>\n",
       "</tr>\n",
       "<tr>\n",
       "  <th>weekday_Sun</th>                  <td>    0.0589</td> <td>    0.014</td> <td>    4.325</td> <td> 0.000</td> <td>    0.032</td> <td>    0.086</td>\n",
       "</tr>\n",
       "<tr>\n",
       "  <th>weekday_Thu</th>                  <td>    0.0013</td> <td>    0.016</td> <td>    0.081</td> <td> 0.935</td> <td>   -0.029</td> <td>    0.032</td>\n",
       "</tr>\n",
       "<tr>\n",
       "  <th>weekday_Tue</th>                  <td>   -0.0112</td> <td>    0.015</td> <td>   -0.737</td> <td> 0.461</td> <td>   -0.041</td> <td>    0.019</td>\n",
       "</tr>\n",
       "<tr>\n",
       "  <th>weekday_Wed</th>                  <td>   -0.0073</td> <td>    0.015</td> <td>   -0.472</td> <td> 0.637</td> <td>   -0.038</td> <td>    0.023</td>\n",
       "</tr>\n",
       "<tr>\n",
       "  <th>working_day_yes_workingday</th>   <td>    0.0916</td> <td>    0.012</td> <td>    7.589</td> <td> 0.000</td> <td>    0.068</td> <td>    0.115</td>\n",
       "</tr>\n",
       "<tr>\n",
       "  <th>weather_condition_Cloudy</th>     <td>   -0.0377</td> <td>    0.011</td> <td>   -3.370</td> <td> 0.001</td> <td>   -0.060</td> <td>   -0.016</td>\n",
       "</tr>\n",
       "<tr>\n",
       "  <th>weather_condition_Light Rain</th> <td>   -0.2083</td> <td>    0.031</td> <td>   -6.674</td> <td> 0.000</td> <td>   -0.270</td> <td>   -0.147</td>\n",
       "</tr>\n",
       "</table>\n",
       "<table class=\"simpletable\">\n",
       "<tr>\n",
       "  <th>Omnibus:</th>       <td>91.954</td> <th>  Durbin-Watson:     </th> <td>   1.868</td>\n",
       "</tr>\n",
       "<tr>\n",
       "  <th>Prob(Omnibus):</th> <td> 0.000</td> <th>  Jarque-Bera (JB):  </th> <td> 261.941</td>\n",
       "</tr>\n",
       "<tr>\n",
       "  <th>Skew:</th>          <td>-0.864</td> <th>  Prob(JB):          </th> <td>1.32e-57</td>\n",
       "</tr>\n",
       "<tr>\n",
       "  <th>Kurtosis:</th>      <td> 6.052</td> <th>  Cond. No.          </th> <td>2.09e+15</td>\n",
       "</tr>\n",
       "</table><br/><br/>Notes:<br/>[1] Standard Errors assume that the covariance matrix of the errors is correctly specified.<br/>[2] The smallest eigenvalue is 3.5e-28. This might indicate that there are<br/>strong multicollinearity problems or that the design matrix is singular."
      ],
      "text/plain": [
       "<class 'statsmodels.iolib.summary.Summary'>\n",
       "\"\"\"\n",
       "                            OLS Regression Results                            \n",
       "==============================================================================\n",
       "Dep. Variable:     count_rental_bikes   R-squared:                       0.838\n",
       "Model:                            OLS   Adj. R-squared:                  0.829\n",
       "Method:                 Least Squares   F-statistic:                     92.55\n",
       "Date:                Sun, 12 Dec 2021   Prob (F-statistic):          6.85e-172\n",
       "Time:                        12:37:49   Log-Likelihood:                 509.45\n",
       "No. Observations:                 511   AIC:                            -962.9\n",
       "Df Residuals:                     483   BIC:                            -844.3\n",
       "Df Model:                          27                                         \n",
       "Covariance Type:            nonrobust                                         \n",
       "================================================================================================\n",
       "                                   coef    std err          t      P>|t|      [0.025      0.975]\n",
       "------------------------------------------------------------------------------------------------\n",
       "const                            0.2902      0.033      8.729      0.000       0.225       0.356\n",
       "temperature_actual               0.4293      0.046      9.432      0.000       0.340       0.519\n",
       "humidity                        -0.1510      0.031     -4.864      0.000      -0.212      -0.090\n",
       "windspeed                       -0.1510      0.022     -6.743      0.000      -0.195      -0.107\n",
       "season_spring                   -0.1179      0.031     -3.815      0.000      -0.179      -0.057\n",
       "season_summer                   -0.0149      0.025     -0.587      0.557      -0.065       0.035\n",
       "season_winter                    0.0642      0.030      2.160      0.031       0.006       0.123\n",
       "year_2019                        0.2243      0.008     26.512      0.000       0.208       0.241\n",
       "month_Aug                       -0.0296      0.034     -0.865      0.387      -0.097       0.038\n",
       "month_Dec                       -0.0461      0.035     -1.322      0.187      -0.115       0.022\n",
       "month_Feb                       -0.0238      0.033     -0.712      0.477      -0.089       0.042\n",
       "month_Jan                       -0.0373      0.034     -1.085      0.279      -0.105       0.030\n",
       "month_Jul                       -0.0762      0.035     -2.150      0.032      -0.146      -0.007\n",
       "month_Jun                       -0.0295      0.026     -1.143      0.254      -0.080       0.021\n",
       "month_Mar                        0.0220      0.026      0.858      0.391      -0.028       0.072\n",
       "month_May                        0.0332      0.021      1.570      0.117      -0.008       0.075\n",
       "month_Nov                       -0.0629      0.038     -1.659      0.098      -0.137       0.012\n",
       "month_Oct                        0.0181      0.037      0.490      0.624      -0.055       0.091\n",
       "month_Sep                        0.0530      0.032      1.651      0.099      -0.010       0.116\n",
       "holiday_yes_holiday              0.0478      0.023      2.122      0.034       0.004       0.092\n",
       "weekday_Mon                     -0.0258      0.016     -1.624      0.105      -0.057       0.005\n",
       "weekday_Sat                      0.0919      0.014      6.637      0.000       0.065       0.119\n",
       "weekday_Sun                      0.0589      0.014      4.325      0.000       0.032       0.086\n",
       "weekday_Thu                      0.0013      0.016      0.081      0.935      -0.029       0.032\n",
       "weekday_Tue                     -0.0112      0.015     -0.737      0.461      -0.041       0.019\n",
       "weekday_Wed                     -0.0073      0.015     -0.472      0.637      -0.038       0.023\n",
       "working_day_yes_workingday       0.0916      0.012      7.589      0.000       0.068       0.115\n",
       "weather_condition_Cloudy        -0.0377      0.011     -3.370      0.001      -0.060      -0.016\n",
       "weather_condition_Light Rain    -0.2083      0.031     -6.674      0.000      -0.270      -0.147\n",
       "==============================================================================\n",
       "Omnibus:                       91.954   Durbin-Watson:                   1.868\n",
       "Prob(Omnibus):                  0.000   Jarque-Bera (JB):              261.941\n",
       "Skew:                          -0.864   Prob(JB):                     1.32e-57\n",
       "Kurtosis:                       6.052   Cond. No.                     2.09e+15\n",
       "==============================================================================\n",
       "\n",
       "Notes:\n",
       "[1] Standard Errors assume that the covariance matrix of the errors is correctly specified.\n",
       "[2] The smallest eigenvalue is 3.5e-28. This might indicate that there are\n",
       "strong multicollinearity problems or that the design matrix is singular.\n",
       "\"\"\""
      ]
     },
     "execution_count": 34,
     "metadata": {},
     "output_type": "execute_result"
    }
   ],
   "source": [
    "#View the summary of the regression\n",
    "lr.summary()"
   ]
  },
  {
   "cell_type": "code",
   "execution_count": 35,
   "metadata": {},
   "outputs": [],
   "source": [
    "# Running RFE with the output number of the variable equal to 15\n",
    "lm = LinearRegression()\n",
    "lm.fit(X_train, y_train)\n",
    "\n",
    "rfe = RFE(lm, step=20)             # running RFE\n",
    "rfe = rfe.fit(X_train, y_train)"
   ]
  },
  {
   "cell_type": "code",
   "execution_count": 36,
   "metadata": {},
   "outputs": [
    {
     "data": {
      "text/plain": [
       "[('temperature_actual', True, 1),\n",
       " ('humidity', True, 1),\n",
       " ('windspeed', True, 1),\n",
       " ('season_spring', True, 1),\n",
       " ('season_summer', False, 2),\n",
       " ('season_winter', True, 1),\n",
       " ('year_2019', True, 1),\n",
       " ('month_Aug', False, 2),\n",
       " ('month_Dec', True, 1),\n",
       " ('month_Feb', False, 2),\n",
       " ('month_Jan', True, 1),\n",
       " ('month_Jul', True, 1),\n",
       " ('month_Jun', False, 2),\n",
       " ('month_Mar', False, 2),\n",
       " ('month_May', True, 1),\n",
       " ('month_Nov', True, 1),\n",
       " ('month_Oct', False, 2),\n",
       " ('month_Sep', True, 1),\n",
       " ('holiday_yes_holiday', False, 2),\n",
       " ('weekday_Mon', False, 2),\n",
       " ('weekday_Sat', False, 2),\n",
       " ('weekday_Sun', False, 2),\n",
       " ('weekday_Thu', False, 2),\n",
       " ('weekday_Tue', False, 2),\n",
       " ('weekday_Wed', False, 2),\n",
       " ('working_day_yes_workingday', False, 2),\n",
       " ('weather_condition_Cloudy', True, 1),\n",
       " ('weather_condition_Light Rain', True, 1)]"
      ]
     },
     "execution_count": 36,
     "metadata": {},
     "output_type": "execute_result"
    }
   ],
   "source": [
    "list(zip(X_train.columns,rfe.support_,rfe.ranking_))"
   ]
  },
  {
   "cell_type": "code",
   "execution_count": 37,
   "metadata": {},
   "outputs": [
    {
     "data": {
      "text/plain": [
       "Index(['temperature_actual', 'humidity', 'windspeed', 'season_spring',\n",
       "       'season_winter', 'year_2019', 'month_Dec', 'month_Jan', 'month_Jul',\n",
       "       'month_May', 'month_Nov', 'month_Sep', 'weather_condition_Cloudy',\n",
       "       'weather_condition_Light Rain'],\n",
       "      dtype='object')"
      ]
     },
     "execution_count": 37,
     "metadata": {},
     "output_type": "execute_result"
    }
   ],
   "source": [
    "col = X_train.columns[rfe.support_]\n",
    "col"
   ]
  },
  {
   "cell_type": "code",
   "execution_count": 38,
   "metadata": {},
   "outputs": [
    {
     "data": {
      "text/plain": [
       "Index(['season_summer', 'month_Aug', 'month_Feb', 'month_Jun', 'month_Mar',\n",
       "       'month_Oct', 'holiday_yes_holiday', 'weekday_Mon', 'weekday_Sat',\n",
       "       'weekday_Sun', 'weekday_Thu', 'weekday_Tue', 'weekday_Wed',\n",
       "       'working_day_yes_workingday'],\n",
       "      dtype='object')"
      ]
     },
     "execution_count": 38,
     "metadata": {},
     "output_type": "execute_result"
    }
   ],
   "source": [
    "X_train.columns[~rfe.support_]"
   ]
  },
  {
   "cell_type": "code",
   "execution_count": 39,
   "metadata": {},
   "outputs": [],
   "source": [
    "# Creating X_test dataframe with RFE selected variables\n",
    "X_train_rfe = X_train[col]"
   ]
  },
  {
   "cell_type": "markdown",
   "metadata": {},
   "source": [
    "# Building Linear Model using 'STATS MODEL'"
   ]
  },
  {
   "cell_type": "markdown",
   "metadata": {},
   "source": [
    "## Model 1"
   ]
  },
  {
   "cell_type": "markdown",
   "metadata": {},
   "source": [
    "### VIF Check"
   ]
  },
  {
   "cell_type": "code",
   "execution_count": 40,
   "metadata": {},
   "outputs": [
    {
     "data": {
      "text/html": [
       "<div>\n",
       "<style scoped>\n",
       "    .dataframe tbody tr th:only-of-type {\n",
       "        vertical-align: middle;\n",
       "    }\n",
       "\n",
       "    .dataframe tbody tr th {\n",
       "        vertical-align: top;\n",
       "    }\n",
       "\n",
       "    .dataframe thead th {\n",
       "        text-align: right;\n",
       "    }\n",
       "</style>\n",
       "<table border=\"1\" class=\"dataframe\">\n",
       "  <thead>\n",
       "    <tr style=\"text-align: right;\">\n",
       "      <th></th>\n",
       "      <th>Features</th>\n",
       "      <th>VIF</th>\n",
       "    </tr>\n",
       "  </thead>\n",
       "  <tbody>\n",
       "    <tr>\n",
       "      <th>1</th>\n",
       "      <td>humidity</td>\n",
       "      <td>13.06</td>\n",
       "    </tr>\n",
       "    <tr>\n",
       "      <th>0</th>\n",
       "      <td>temperature_actual</td>\n",
       "      <td>10.37</td>\n",
       "    </tr>\n",
       "    <tr>\n",
       "      <th>2</th>\n",
       "      <td>windspeed</td>\n",
       "      <td>4.03</td>\n",
       "    </tr>\n",
       "    <tr>\n",
       "      <th>4</th>\n",
       "      <td>season_winter</td>\n",
       "      <td>2.87</td>\n",
       "    </tr>\n",
       "    <tr>\n",
       "      <th>3</th>\n",
       "      <td>season_spring</td>\n",
       "      <td>2.74</td>\n",
       "    </tr>\n",
       "    <tr>\n",
       "      <th>12</th>\n",
       "      <td>weather_condition_Cloudy</td>\n",
       "      <td>2.45</td>\n",
       "    </tr>\n",
       "    <tr>\n",
       "      <th>5</th>\n",
       "      <td>year_2019</td>\n",
       "      <td>2.09</td>\n",
       "    </tr>\n",
       "    <tr>\n",
       "      <th>10</th>\n",
       "      <td>month_Nov</td>\n",
       "      <td>1.83</td>\n",
       "    </tr>\n",
       "    <tr>\n",
       "      <th>7</th>\n",
       "      <td>month_Jan</td>\n",
       "      <td>1.65</td>\n",
       "    </tr>\n",
       "    <tr>\n",
       "      <th>6</th>\n",
       "      <td>month_Dec</td>\n",
       "      <td>1.49</td>\n",
       "    </tr>\n",
       "    <tr>\n",
       "      <th>8</th>\n",
       "      <td>month_Jul</td>\n",
       "      <td>1.46</td>\n",
       "    </tr>\n",
       "    <tr>\n",
       "      <th>13</th>\n",
       "      <td>weather_condition_Light Rain</td>\n",
       "      <td>1.41</td>\n",
       "    </tr>\n",
       "    <tr>\n",
       "      <th>9</th>\n",
       "      <td>month_May</td>\n",
       "      <td>1.35</td>\n",
       "    </tr>\n",
       "    <tr>\n",
       "      <th>11</th>\n",
       "      <td>month_Sep</td>\n",
       "      <td>1.27</td>\n",
       "    </tr>\n",
       "  </tbody>\n",
       "</table>\n",
       "</div>"
      ],
      "text/plain": [
       "                        Features    VIF\n",
       "1                       humidity  13.06\n",
       "0             temperature_actual  10.37\n",
       "2                      windspeed   4.03\n",
       "4                  season_winter   2.87\n",
       "3                  season_spring   2.74\n",
       "12      weather_condition_Cloudy   2.45\n",
       "5                      year_2019   2.09\n",
       "10                     month_Nov   1.83\n",
       "7                      month_Jan   1.65\n",
       "6                      month_Dec   1.49\n",
       "8                      month_Jul   1.46\n",
       "13  weather_condition_Light Rain   1.41\n",
       "9                      month_May   1.35\n",
       "11                     month_Sep   1.27"
      ]
     },
     "execution_count": 40,
     "metadata": {},
     "output_type": "execute_result"
    }
   ],
   "source": [
    "# Check for the VIF values of the feature variables. \n",
    "from statsmodels.stats.outliers_influence import variance_inflation_factor\n",
    "\n",
    "# Create a dataframe that will contain the names of all the feature variables and their respective VIFs\n",
    "vif = pd.DataFrame()\n",
    "vif['Features'] = X_train_rfe.columns\n",
    "vif['VIF'] = [variance_inflation_factor(X_train_rfe.values, i) for i in range(X_train_rfe.shape[1])]\n",
    "vif['VIF'] = round(vif['VIF'], 2)\n",
    "vif = vif.sort_values(by = \"VIF\", ascending = False)\n",
    "vif"
   ]
  },
  {
   "cell_type": "code",
   "execution_count": 41,
   "metadata": {},
   "outputs": [
    {
     "name": "stdout",
     "output_type": "stream",
     "text": [
      "                            OLS Regression Results                            \n",
      "==============================================================================\n",
      "Dep. Variable:     count_rental_bikes   R-squared:                       0.831\n",
      "Model:                            OLS   Adj. R-squared:                  0.826\n",
      "Method:                 Least Squares   F-statistic:                     173.7\n",
      "Date:                Sun, 12 Dec 2021   Prob (F-statistic):          7.15e-181\n",
      "Time:                        12:39:04   Log-Likelihood:                 497.97\n",
      "No. Observations:                 511   AIC:                            -965.9\n",
      "Df Residuals:                     496   BIC:                            -902.4\n",
      "Df Model:                          14                                         \n",
      "Covariance Type:            nonrobust                                         \n",
      "================================================================================================\n",
      "                                   coef    std err          t      P>|t|      [0.025      0.975]\n",
      "------------------------------------------------------------------------------------------------\n",
      "const                            0.3633      0.028     13.190      0.000       0.309       0.417\n",
      "temperature_actual               0.4025      0.032     12.710      0.000       0.340       0.465\n",
      "humidity                        -0.1508      0.030     -4.971      0.000      -0.210      -0.091\n",
      "windspeed                       -0.1471      0.022     -6.595      0.000      -0.191      -0.103\n",
      "season_spring                   -0.1095      0.017     -6.604      0.000      -0.142      -0.077\n",
      "season_winter                    0.0903      0.015      6.030      0.000       0.061       0.120\n",
      "year_2019                        0.2252      0.008     26.641      0.000       0.209       0.242\n",
      "month_Dec                       -0.0518      0.018     -2.889      0.004      -0.087      -0.017\n",
      "month_Jan                       -0.0394      0.018     -2.173      0.030      -0.075      -0.004\n",
      "month_Jul                       -0.0505      0.018     -2.806      0.005      -0.086      -0.015\n",
      "month_May                        0.0397      0.016      2.462      0.014       0.008       0.071\n",
      "month_Nov                       -0.0764      0.020     -3.882      0.000      -0.115      -0.038\n",
      "month_Sep                        0.0704      0.017      4.204      0.000       0.037       0.103\n",
      "weather_condition_Cloudy        -0.0352      0.011     -3.166      0.002      -0.057      -0.013\n",
      "weather_condition_Light Rain    -0.2029      0.031     -6.526      0.000      -0.264      -0.142\n",
      "==============================================================================\n",
      "Omnibus:                       85.402   Durbin-Watson:                   1.837\n",
      "Prob(Omnibus):                  0.000   Jarque-Bera (JB):              263.359\n",
      "Skew:                          -0.777   Prob(JB):                     6.49e-58\n",
      "Kurtosis:                       6.155   Cond. No.                         15.8\n",
      "==============================================================================\n",
      "\n",
      "Notes:\n",
      "[1] Standard Errors assume that the covariance matrix of the errors is correctly specified.\n"
     ]
    }
   ],
   "source": [
    "\n",
    "# Add a constant\n",
    "X_train_lm1 = sm.add_constant(X_train_rfe)\n",
    "\n",
    "# Create a first fitted model after RFE\n",
    "lr1 = sm.OLS(y_train, X_train_lm1).fit()\n",
    "# Print a summary of the linear regression model obtained\n",
    "print(lr1.summary())"
   ]
  },
  {
   "cell_type": "markdown",
   "metadata": {},
   "source": [
    "## Model 2"
   ]
  },
  {
   "cell_type": "markdown",
   "metadata": {},
   "source": [
    "- Removing the variable 'Humidity' based on its High VIF"
   ]
  },
  {
   "cell_type": "code",
   "execution_count": 42,
   "metadata": {},
   "outputs": [],
   "source": [
    "X_train_model_2 = X_train_rfe.drop([\"humidity\"], axis = 1)"
   ]
  },
  {
   "cell_type": "markdown",
   "metadata": {},
   "source": [
    "### VIF Check"
   ]
  },
  {
   "cell_type": "code",
   "execution_count": 43,
   "metadata": {},
   "outputs": [
    {
     "data": {
      "text/html": [
       "<div>\n",
       "<style scoped>\n",
       "    .dataframe tbody tr th:only-of-type {\n",
       "        vertical-align: middle;\n",
       "    }\n",
       "\n",
       "    .dataframe tbody tr th {\n",
       "        vertical-align: top;\n",
       "    }\n",
       "\n",
       "    .dataframe thead th {\n",
       "        text-align: right;\n",
       "    }\n",
       "</style>\n",
       "<table border=\"1\" class=\"dataframe\">\n",
       "  <thead>\n",
       "    <tr style=\"text-align: right;\">\n",
       "      <th></th>\n",
       "      <th>Features</th>\n",
       "      <th>VIF</th>\n",
       "    </tr>\n",
       "  </thead>\n",
       "  <tbody>\n",
       "    <tr>\n",
       "      <th>0</th>\n",
       "      <td>temperature_actual</td>\n",
       "      <td>4.84</td>\n",
       "    </tr>\n",
       "    <tr>\n",
       "      <th>1</th>\n",
       "      <td>windspeed</td>\n",
       "      <td>3.99</td>\n",
       "    </tr>\n",
       "    <tr>\n",
       "      <th>3</th>\n",
       "      <td>season_winter</td>\n",
       "      <td>2.59</td>\n",
       "    </tr>\n",
       "    <tr>\n",
       "      <th>2</th>\n",
       "      <td>season_spring</td>\n",
       "      <td>2.37</td>\n",
       "    </tr>\n",
       "    <tr>\n",
       "      <th>4</th>\n",
       "      <td>year_2019</td>\n",
       "      <td>2.06</td>\n",
       "    </tr>\n",
       "    <tr>\n",
       "      <th>9</th>\n",
       "      <td>month_Nov</td>\n",
       "      <td>1.80</td>\n",
       "    </tr>\n",
       "    <tr>\n",
       "      <th>6</th>\n",
       "      <td>month_Jan</td>\n",
       "      <td>1.62</td>\n",
       "    </tr>\n",
       "    <tr>\n",
       "      <th>11</th>\n",
       "      <td>weather_condition_Cloudy</td>\n",
       "      <td>1.53</td>\n",
       "    </tr>\n",
       "    <tr>\n",
       "      <th>5</th>\n",
       "      <td>month_Dec</td>\n",
       "      <td>1.46</td>\n",
       "    </tr>\n",
       "    <tr>\n",
       "      <th>7</th>\n",
       "      <td>month_Jul</td>\n",
       "      <td>1.44</td>\n",
       "    </tr>\n",
       "    <tr>\n",
       "      <th>8</th>\n",
       "      <td>month_May</td>\n",
       "      <td>1.27</td>\n",
       "    </tr>\n",
       "    <tr>\n",
       "      <th>10</th>\n",
       "      <td>month_Sep</td>\n",
       "      <td>1.23</td>\n",
       "    </tr>\n",
       "    <tr>\n",
       "      <th>12</th>\n",
       "      <td>weather_condition_Light Rain</td>\n",
       "      <td>1.10</td>\n",
       "    </tr>\n",
       "  </tbody>\n",
       "</table>\n",
       "</div>"
      ],
      "text/plain": [
       "                        Features   VIF\n",
       "0             temperature_actual  4.84\n",
       "1                      windspeed  3.99\n",
       "3                  season_winter  2.59\n",
       "2                  season_spring  2.37\n",
       "4                      year_2019  2.06\n",
       "9                      month_Nov  1.80\n",
       "6                      month_Jan  1.62\n",
       "11      weather_condition_Cloudy  1.53\n",
       "5                      month_Dec  1.46\n",
       "7                      month_Jul  1.44\n",
       "8                      month_May  1.27\n",
       "10                     month_Sep  1.23\n",
       "12  weather_condition_Light Rain  1.10"
      ]
     },
     "execution_count": 43,
     "metadata": {},
     "output_type": "execute_result"
    }
   ],
   "source": [
    "# Check for the VIF values of the feature variables. \n",
    "from statsmodels.stats.outliers_influence import variance_inflation_factor\n",
    "\n",
    "# Create a dataframe that will contain the names of all the feature variables and their respective VIFs\n",
    "vif = pd.DataFrame()\n",
    "vif['Features'] = X_train_model_2.columns\n",
    "vif['VIF'] = [variance_inflation_factor(X_train_model_2.values, i) for i in range(X_train_model_2.shape[1])]\n",
    "vif['VIF'] = round(vif['VIF'], 2)\n",
    "vif = vif.sort_values(by = \"VIF\", ascending = False)\n",
    "vif"
   ]
  },
  {
   "cell_type": "code",
   "execution_count": 44,
   "metadata": {},
   "outputs": [
    {
     "name": "stdout",
     "output_type": "stream",
     "text": [
      "                            OLS Regression Results                            \n",
      "==============================================================================\n",
      "Dep. Variable:     count_rental_bikes   R-squared:                       0.822\n",
      "Model:                            OLS   Adj. R-squared:                  0.817\n",
      "Method:                 Least Squares   F-statistic:                     176.7\n",
      "Date:                Sun, 12 Dec 2021   Prob (F-statistic):          8.57e-177\n",
      "Time:                        12:39:18   Log-Likelihood:                 485.55\n",
      "No. Observations:                 511   AIC:                            -943.1\n",
      "Df Residuals:                     497   BIC:                            -883.8\n",
      "Df Model:                          13                                         \n",
      "Covariance Type:            nonrobust                                         \n",
      "================================================================================================\n",
      "                                   coef    std err          t      P>|t|      [0.025      0.975]\n",
      "------------------------------------------------------------------------------------------------\n",
      "const                            0.3072      0.026     11.944      0.000       0.257       0.358\n",
      "temperature_actual               0.3716      0.032     11.691      0.000       0.309       0.434\n",
      "windspeed                       -0.1148      0.022     -5.257      0.000      -0.158      -0.072\n",
      "season_spring                   -0.1132      0.017     -6.675      0.000      -0.147      -0.080\n",
      "season_winter                    0.0802      0.015      5.281      0.000       0.050       0.110\n",
      "year_2019                        0.2326      0.009     27.318      0.000       0.216       0.249\n",
      "month_Dec                       -0.0551      0.018     -3.009      0.003      -0.091      -0.019\n",
      "month_Jan                       -0.0426      0.019     -2.298      0.022      -0.079      -0.006\n",
      "month_Jul                       -0.0430      0.018     -2.343      0.020      -0.079      -0.007\n",
      "month_May                        0.0251      0.016      1.550      0.122      -0.007       0.057\n",
      "month_Nov                       -0.0770      0.020     -3.821      0.000      -0.117      -0.037\n",
      "month_Sep                        0.0555      0.017      3.290      0.001       0.022       0.089\n",
      "weather_condition_Cloudy        -0.0685      0.009     -7.521      0.000      -0.086      -0.051\n",
      "weather_condition_Light Rain    -0.2797      0.028    -10.122      0.000      -0.334      -0.225\n",
      "==============================================================================\n",
      "Omnibus:                       86.721   Durbin-Watson:                   1.840\n",
      "Prob(Omnibus):                  0.000   Jarque-Bera (JB):              257.756\n",
      "Skew:                          -0.802   Prob(JB):                     1.07e-56\n",
      "Kurtosis:                       6.088   Cond. No.                         14.7\n",
      "==============================================================================\n",
      "\n",
      "Notes:\n",
      "[1] Standard Errors assume that the covariance matrix of the errors is correctly specified.\n"
     ]
    }
   ],
   "source": [
    "# Add a constant\n",
    "X_train_lm2 = sm.add_constant(X_train_model_2)\n",
    "\n",
    "# Create a first fitted model\n",
    "lr2 = sm.OLS(y_train, X_train_lm2).fit()\n",
    "\n",
    "# Print a summary of the linear regression model obtained\n",
    "print(lr2.summary())"
   ]
  },
  {
   "cell_type": "markdown",
   "metadata": {},
   "source": [
    "## Model 3"
   ]
  },
  {
   "cell_type": "markdown",
   "metadata": {},
   "source": [
    " - Removing the variable 'hum' based on its Very High 'VIF' value.\n",
    " - Even though the VIF of hum is second highest, we decided to drop 'hum' and not 'temp' based on general knowledge that temperature can be an important factor for a business like bike rentals, and wanted to retain 'temp'."
   ]
  },
  {
   "cell_type": "code",
   "execution_count": 45,
   "metadata": {},
   "outputs": [],
   "source": [
    "X_train_model_3 = X_train_model_2.drop([\"month_May\"], axis = 1)"
   ]
  },
  {
   "cell_type": "markdown",
   "metadata": {},
   "source": [
    "### VIF Check"
   ]
  },
  {
   "cell_type": "code",
   "execution_count": 46,
   "metadata": {
    "scrolled": true
   },
   "outputs": [
    {
     "data": {
      "text/html": [
       "<div>\n",
       "<style scoped>\n",
       "    .dataframe tbody tr th:only-of-type {\n",
       "        vertical-align: middle;\n",
       "    }\n",
       "\n",
       "    .dataframe tbody tr th {\n",
       "        vertical-align: top;\n",
       "    }\n",
       "\n",
       "    .dataframe thead th {\n",
       "        text-align: right;\n",
       "    }\n",
       "</style>\n",
       "<table border=\"1\" class=\"dataframe\">\n",
       "  <thead>\n",
       "    <tr style=\"text-align: right;\">\n",
       "      <th></th>\n",
       "      <th>Features</th>\n",
       "      <th>VIF</th>\n",
       "    </tr>\n",
       "  </thead>\n",
       "  <tbody>\n",
       "    <tr>\n",
       "      <th>0</th>\n",
       "      <td>temperature_actual</td>\n",
       "      <td>4.46</td>\n",
       "    </tr>\n",
       "    <tr>\n",
       "      <th>1</th>\n",
       "      <td>windspeed</td>\n",
       "      <td>3.99</td>\n",
       "    </tr>\n",
       "    <tr>\n",
       "      <th>3</th>\n",
       "      <td>season_winter</td>\n",
       "      <td>2.52</td>\n",
       "    </tr>\n",
       "    <tr>\n",
       "      <th>2</th>\n",
       "      <td>season_spring</td>\n",
       "      <td>2.32</td>\n",
       "    </tr>\n",
       "    <tr>\n",
       "      <th>4</th>\n",
       "      <td>year_2019</td>\n",
       "      <td>2.05</td>\n",
       "    </tr>\n",
       "    <tr>\n",
       "      <th>8</th>\n",
       "      <td>month_Nov</td>\n",
       "      <td>1.80</td>\n",
       "    </tr>\n",
       "    <tr>\n",
       "      <th>6</th>\n",
       "      <td>month_Jan</td>\n",
       "      <td>1.61</td>\n",
       "    </tr>\n",
       "    <tr>\n",
       "      <th>10</th>\n",
       "      <td>weather_condition_Cloudy</td>\n",
       "      <td>1.51</td>\n",
       "    </tr>\n",
       "    <tr>\n",
       "      <th>5</th>\n",
       "      <td>month_Dec</td>\n",
       "      <td>1.46</td>\n",
       "    </tr>\n",
       "    <tr>\n",
       "      <th>7</th>\n",
       "      <td>month_Jul</td>\n",
       "      <td>1.36</td>\n",
       "    </tr>\n",
       "    <tr>\n",
       "      <th>9</th>\n",
       "      <td>month_Sep</td>\n",
       "      <td>1.19</td>\n",
       "    </tr>\n",
       "    <tr>\n",
       "      <th>11</th>\n",
       "      <td>weather_condition_Light Rain</td>\n",
       "      <td>1.10</td>\n",
       "    </tr>\n",
       "  </tbody>\n",
       "</table>\n",
       "</div>"
      ],
      "text/plain": [
       "                        Features   VIF\n",
       "0             temperature_actual  4.46\n",
       "1                      windspeed  3.99\n",
       "3                  season_winter  2.52\n",
       "2                  season_spring  2.32\n",
       "4                      year_2019  2.05\n",
       "8                      month_Nov  1.80\n",
       "6                      month_Jan  1.61\n",
       "10      weather_condition_Cloudy  1.51\n",
       "5                      month_Dec  1.46\n",
       "7                      month_Jul  1.36\n",
       "9                      month_Sep  1.19\n",
       "11  weather_condition_Light Rain  1.10"
      ]
     },
     "execution_count": 46,
     "metadata": {},
     "output_type": "execute_result"
    }
   ],
   "source": [
    "# Check for the VIF values of the feature variables. \n",
    "from statsmodels.stats.outliers_influence import variance_inflation_factor\n",
    "\n",
    "# Create a dataframe that will contain the names of all the feature variables and their respective VIFs\n",
    "vif = pd.DataFrame()\n",
    "vif['Features'] = X_train_model_3.columns\n",
    "vif['VIF'] = [variance_inflation_factor(X_train_model_3.values, i) for i in range(X_train_model_3.shape[1])]\n",
    "vif['VIF'] = round(vif['VIF'], 2)\n",
    "vif = vif.sort_values(by = \"VIF\", ascending = False)\n",
    "vif"
   ]
  },
  {
   "cell_type": "code",
   "execution_count": 72,
   "metadata": {},
   "outputs": [
    {
     "name": "stdout",
     "output_type": "stream",
     "text": [
      "                            OLS Regression Results                            \n",
      "==============================================================================\n",
      "Dep. Variable:     count_rental_bikes   R-squared:                       0.821\n",
      "Model:                            OLS   Adj. R-squared:                  0.817\n",
      "Method:                 Least Squares   F-statistic:                     190.7\n",
      "Date:                Sun, 12 Dec 2021   Prob (F-statistic):          2.00e-177\n",
      "Time:                        13:44:16   Log-Likelihood:                 484.32\n",
      "No. Observations:                 511   AIC:                            -942.6\n",
      "Df Residuals:                     498   BIC:                            -887.6\n",
      "Df Model:                          12                                         \n",
      "Covariance Type:            nonrobust                                         \n",
      "================================================================================================\n",
      "                                   coef    std err          t      P>|t|      [0.025      0.975]\n",
      "------------------------------------------------------------------------------------------------\n",
      "const                            0.3141      0.025     12.386      0.000       0.264       0.364\n",
      "temperature_actual               0.3711      0.032     11.658      0.000       0.309       0.434\n",
      "windspeed                       -0.1172      0.022     -5.374      0.000      -0.160      -0.074\n",
      "season_spring                   -0.1189      0.017     -7.166      0.000      -0.151      -0.086\n",
      "season_winter                    0.0749      0.015      5.055      0.000       0.046       0.104\n",
      "year_2019                        0.2321      0.009     27.241      0.000       0.215       0.249\n",
      "month_Dec                       -0.0558      0.018     -3.044      0.002      -0.092      -0.020\n",
      "month_Jan                       -0.0429      0.019     -2.309      0.021      -0.079      -0.006\n",
      "month_Jul                       -0.0487      0.018     -2.701      0.007      -0.084      -0.013\n",
      "month_Nov                       -0.0775      0.020     -3.842      0.000      -0.117      -0.038\n",
      "month_Sep                        0.0507      0.017      3.055      0.002       0.018       0.083\n",
      "weather_condition_Cloudy        -0.0674      0.009     -7.409      0.000      -0.085      -0.049\n",
      "weather_condition_Light Rain    -0.2805      0.028    -10.139      0.000      -0.335      -0.226\n",
      "==============================================================================\n",
      "Omnibus:                       86.088   Durbin-Watson:                   1.845\n",
      "Prob(Omnibus):                  0.000   Jarque-Bera (JB):              248.980\n",
      "Skew:                          -0.805   Prob(JB):                     8.60e-55\n",
      "Kurtosis:                       6.017   Cond. No.                         14.6\n",
      "==============================================================================\n",
      "\n",
      "Notes:\n",
      "[1] Standard Errors assume that the covariance matrix of the errors is correctly specified.\n"
     ]
    }
   ],
   "source": [
    "# Add a constant\n",
    "X_train_lm3 = sm.add_constant(X_train_model_3)\n",
    "\n",
    "# Create a first fitted model\n",
    "lr3 = sm.OLS(y_train, X_train_lm3).fit()\n",
    "\n",
    "# Print a summary of the linear regression model obtained\n",
    "print(lr3.summary())"
   ]
  },
  {
   "cell_type": "markdown",
   "metadata": {},
   "source": [
    "# Final Model Interpretation"
   ]
  },
  {
   "cell_type": "markdown",
   "metadata": {},
   "source": [
    "## Hypothesis Testing:"
   ]
  },
  {
   "cell_type": "markdown",
   "metadata": {},
   "source": [
    "Hypothesis testing states that:\n",
    "- H0:B1=B2=...=Bn=0 \n",
    "- H1:  at least one  Bi!=0"
   ]
  },
  {
   "cell_type": "markdown",
   "metadata": {},
   "source": [
    "### lr3 model coefficient values"
   ]
  },
  {
   "cell_type": "code",
   "execution_count": 73,
   "metadata": {},
   "outputs": [
    {
     "data": {
      "text/html": [
       "<div>\n",
       "<style scoped>\n",
       "    .dataframe tbody tr th:only-of-type {\n",
       "        vertical-align: middle;\n",
       "    }\n",
       "\n",
       "    .dataframe tbody tr th {\n",
       "        vertical-align: top;\n",
       "    }\n",
       "\n",
       "    .dataframe thead th {\n",
       "        text-align: right;\n",
       "    }\n",
       "</style>\n",
       "<table border=\"1\" class=\"dataframe\">\n",
       "  <thead>\n",
       "    <tr style=\"text-align: right;\">\n",
       "      <th></th>\n",
       "      <th>coefficient_values</th>\n",
       "    </tr>\n",
       "  </thead>\n",
       "  <tbody>\n",
       "    <tr>\n",
       "      <th>const</th>\n",
       "      <td>0.314092</td>\n",
       "    </tr>\n",
       "    <tr>\n",
       "      <th>temperature_actual</th>\n",
       "      <td>0.371059</td>\n",
       "    </tr>\n",
       "    <tr>\n",
       "      <th>windspeed</th>\n",
       "      <td>-0.117210</td>\n",
       "    </tr>\n",
       "    <tr>\n",
       "      <th>season_spring</th>\n",
       "      <td>-0.118860</td>\n",
       "    </tr>\n",
       "    <tr>\n",
       "      <th>season_winter</th>\n",
       "      <td>0.074944</td>\n",
       "    </tr>\n",
       "    <tr>\n",
       "      <th>year_2019</th>\n",
       "      <td>0.232119</td>\n",
       "    </tr>\n",
       "    <tr>\n",
       "      <th>month_Dec</th>\n",
       "      <td>-0.055825</td>\n",
       "    </tr>\n",
       "    <tr>\n",
       "      <th>month_Jan</th>\n",
       "      <td>-0.042903</td>\n",
       "    </tr>\n",
       "    <tr>\n",
       "      <th>month_Jul</th>\n",
       "      <td>-0.048696</td>\n",
       "    </tr>\n",
       "    <tr>\n",
       "      <th>month_Nov</th>\n",
       "      <td>-0.077509</td>\n",
       "    </tr>\n",
       "    <tr>\n",
       "      <th>month_Sep</th>\n",
       "      <td>0.050736</td>\n",
       "    </tr>\n",
       "    <tr>\n",
       "      <th>weather_condition_Cloudy</th>\n",
       "      <td>-0.067358</td>\n",
       "    </tr>\n",
       "    <tr>\n",
       "      <th>weather_condition_Light Rain</th>\n",
       "      <td>-0.280476</td>\n",
       "    </tr>\n",
       "  </tbody>\n",
       "</table>\n",
       "</div>"
      ],
      "text/plain": [
       "                              coefficient_values\n",
       "const                                   0.314092\n",
       "temperature_actual                      0.371059\n",
       "windspeed                              -0.117210\n",
       "season_spring                          -0.118860\n",
       "season_winter                           0.074944\n",
       "year_2019                               0.232119\n",
       "month_Dec                              -0.055825\n",
       "month_Jan                              -0.042903\n",
       "month_Jul                              -0.048696\n",
       "month_Nov                              -0.077509\n",
       "month_Sep                               0.050736\n",
       "weather_condition_Cloudy               -0.067358\n",
       "weather_condition_Light Rain           -0.280476"
      ]
     },
     "execution_count": 73,
     "metadata": {},
     "output_type": "execute_result"
    }
   ],
   "source": [
    "model_lm3_coeff=pd.DataFrame(lr3.params,columns=['coefficient_values'])\n",
    "model_lm3_coeff"
   ]
  },
  {
   "cell_type": "code",
   "execution_count": 74,
   "metadata": {},
   "outputs": [
    {
     "data": {
      "image/png": "[encoded data removed]",
      "text/plain": [
       "<Figure size 1080x720 with 1 Axes>"
      ]
     },
     "metadata": {
      "needs_background": "light"
     },
     "output_type": "display_data"
    }
   ],
   "source": [
    "plt.figure(figsize = (15,10))\n",
    "#coeff = pd.DataFrame(lr3.coef_, index = X_train_lm3.columns, columns = ['Coefficient'])\n",
    "sns.barplot(x = model_lm3_coeff.index, y = 'coefficient_values', data =model_lm3_coeff , color = 'green')\n",
    "plt.xticks(rotation=45)\n",
    "plt.show()\n"
   ]
  },
  {
   "cell_type": "markdown",
   "metadata": {},
   "source": [
    "### Insights\n",
    "- From the lr6 model summary, it is evident that all our coefficients are not equal to zerowhich means **We REJECT the NULL HYPOTHESIS**\n",
    "    "
   ]
  },
  {
   "cell_type": "markdown",
   "metadata": {},
   "source": [
    "### F Statistics"
   ]
  },
  {
   "cell_type": "markdown",
   "metadata": {},
   "source": [
    "F-Statistics is used for testing the overall significance of the Model: Higher the F-Statistics, more significant the Model is.\n",
    "\n",
    "-F-statistic:                     190.7\n",
    "-Prob (F-statistic):          2.00e-177\n",
    "\n",
    "The F-Statistics value of 190.7 and the p-value of '~0.0000' states that the overall model is significant"
   ]
  },
  {
   "cell_type": "markdown",
   "metadata": {},
   "source": [
    "## The equation of best fitted surface based on model lr6:"
   ]
  },
  {
   "cell_type": "markdown",
   "metadata": {},
   "source": [
    "cnt = 0.084143 + (**yr** × 0.230846) + (**workingday** × 0.043203) + (**temp** × 0.563615) − (**windspeed** × 0.155191) + (**season2** × 0.082706) + (**season4** ×0.128744) + (**mnth9** × 0.094743) + (**weekday6** ×0.056909) − (**weathersit2** × 0.074807) − (**weathersit3** × 0.306992)\n",
    "\n",
    "\n",
    "\n",
    "  "
   ]
  },
  {
   "cell_type": "markdown",
   "metadata": {},
   "source": [
    "## Interpretation of Coefficients:\n",
    "**temp:** A coefficient value of ‘0.5636’ indicated that a unit increase in temp variable, increases the bike hire numbers by 0.5636 units.\n",
    "\n",
    "**weathersit_3:** A coefficient value of ‘-0.3070’ indicated that, w.r.t Weathersit1, a unit increase in Weathersit3 variable, decreases the bike hire numbers by 0.3070 units.\n",
    "\n",
    "**yr:** A coefficient value of ‘0.2308’ indicated that a unit increase in yr variable, increases the bike hire numbers by 0.2308 units.\n",
    "\n",
    "**season_4:** A coefficient value of ‘0.128744’ indicated that w.r.t season_1, a unit increase in season_4 variable increases the bike hire numbers by 0.128744 units.\n",
    "\n",
    "**windspeed:** A coefficient value of ‘-0.155191’ indicated that, a unit increase in windspeed variable decreases the bike hire numbers by 0.155191 units.\n",
    "\n",
    "**workingday:** A coefficient value of ‘0.043203’ indicated that, a unit increase in workingday variable increases the bike hire numbers by 0.043203 units.\n",
    "\n",
    "**season_2:** A coefficient value of ‘0.082706’ indicated that w.r.t season_1, a unit increase in season_2 variable decreases the bike hire numbers by 0.082706 units.\n",
    "\n",
    "**mnth_9:** A coefficient value of ‘0.094743’ indicated that w.r.t mnth_1, a unit increase in mnth_9 variable increases the bike hire numbers by 0.094743 units.\n",
    "\n",
    "**weekday_6:** A coefficient value of ‘0.056909’ indicated that w.r.t weekday_1, a unit increase in weekday_6 variable increases the bike hire numbers by 0.056909 units.\n",
    "\n",
    "**weathersit_2:** A coefficient value of ‘-0.074807’ indicated that, w.r.t Weathersit1, a unit increase in Weathersit2 variable, decreases the bike hire numbers by 0.074807 units.\n",
    "\n",
    "**const:** The Constant value of ‘0.084143’ indicated that, in the absence of all other predictor variables (i.e. when x1,x2...xn =0), The bike rental can still increase by 0.084143 units."
   ]
  },
  {
   "cell_type": "markdown",
   "metadata": {},
   "source": [
    "# ASSUMPTIONS "
   ]
  },
  {
   "cell_type": "markdown",
   "metadata": {},
   "source": [
    "# 1) Linearity\n",
    "This assumes that there is a linear relationship between the predictors  and the response variable. This also assumes that the predictors are additive.\n",
    "\n",
    "What it will affect: The predictions will be extremely inaccurate because our model is underfitting. This is a serious violation that should not be ignored.\n",
    "\n",
    "How to detect it:  by using a scatter plot to see our predicted values versus the actual values. Ideally, the points should lie on or around a diagonal line on the scatter plot.\n",
    "\n"
   ]
  },
  {
   "cell_type": "code",
   "execution_count": 93,
   "metadata": {},
   "outputs": [],
   "source": [
    "def calculate_residuals(model, features, label):\n",
    "    \"\"\"\n",
    "    Creates predictions on the features with the model and calculates residuals\n",
    "    \"\"\"\n",
    "    predictions = model.predict(features)\n",
    "    df_results = pd.DataFrame({'Actual': label, 'Predicted': predictions})\n",
    "    df_results['Residuals'] = abs(df_results['Actual']) - abs(df_results['Predicted'])\n",
    "    \n",
    "    return df_results"
   ]
  },
  {
   "cell_type": "code",
   "execution_count": 94,
   "metadata": {},
   "outputs": [],
   "source": [
    "def linear_assumption(model, features, label):\n",
    "    \"\"\"\n",
    "    Linearity: Assumes that there is a linear relationship between the predictors and\n",
    "               the response variable. If not, either a quadratic term or another\n",
    "               algorithm should be used.\n",
    "    \"\"\"\n",
    "    print('Assumption 1: Linear Relationship between the Target and the Feature', '\\n')\n",
    "        \n",
    "    print('Checking with a scatter plot of actual vs. predicted.',\n",
    "           'Predictions should follow the diagonal line.')\n",
    "    \n",
    "    # Calculating residuals for the plot\n",
    "    df_results = calculate_residuals(model, features, label)\n",
    "    \n",
    "    # Plotting the actual vs predicted values\n",
    "    sns.lmplot(x='Actual', y='Predicted', data=df_results, fit_reg=False, size=7)\n",
    "        \n",
    "    # Plotting the diagonal line\n",
    "    line_coords = np.arange(df_results.min().min(), df_results.max().max())\n",
    "    plt.plot(line_coords, line_coords,  # X and y points\n",
    "             color='darkorange', linestyle='--')\n",
    "    plt.title('Actual vs. Predicted')\n",
    "    plt.show()"
   ]
  },
  {
   "cell_type": "code",
   "execution_count": 95,
   "metadata": {},
   "outputs": [
    {
     "name": "stdout",
     "output_type": "stream",
     "text": [
      "Assumption 1: Linear Relationship between the Target and the Feature \n",
      "\n",
      "Checking with a scatter plot of actual vs. predicted. Predictions should follow the diagonal line.\n"
     ]
    },
    {
     "data": {
      "image/png": "[encoded data removed]",
      "text/plain": [
       "<Figure size 504x504 with 1 Axes>"
      ]
     },
     "metadata": {
      "needs_background": "light"
     },
     "output_type": "display_data"
    }
   ],
   "source": [
    "linear_assumption(lr3, X_train_lm3, y_train)"
   ]
  },
  {
   "cell_type": "markdown",
   "metadata": {},
   "source": [
    "# II) Normality of the Error Terms\n",
    "More specifically, this assumes that the error terms of the model are normally distributed. Linear regressions other than Ordinary Least Squares (OLS) may also assume normality of the predictors or the label, but that is not the case here.\n",
    "\n",
    "What it will affect: A violation of this assumption could cause issues with either shrinking or inflating our confidence intervals.\n",
    "\n",
    "How to detect it: There are a variety of ways to do so, but we’ll look at both a histogram and the p-value from the Anderson-Darling test for normality.\n",
    "\n"
   ]
  },
  {
   "cell_type": "code",
   "execution_count": 96,
   "metadata": {},
   "outputs": [],
   "source": [
    "def normal_errors_assumption(model, features, label, p_value_thresh=0.05):\n",
    "    \"\"\"\n",
    "    Normality: Assumes that the error terms are normally distributed. If they are not,\n",
    "    nonlinear transformations of variables may solve this.\n",
    "               \n",
    "    This assumption being violated primarily causes issues with the confidence intervals\n",
    "    \"\"\"\n",
    "    from statsmodels.stats.diagnostic import normal_ad\n",
    "    print('Assumption 2: The error terms are normally distributed', '\\n')\n",
    "    \n",
    "    # Calculating residuals for the Anderson-Darling test\n",
    "    df_results = calculate_residuals(model, features, label)\n",
    "    \n",
    "    print('Using the Anderson-Darling test for normal distribution')\n",
    "\n",
    "    # Performing the test on the residuals\n",
    "    p_value = normal_ad(df_results['Residuals'])[1]\n",
    "    print('p-value from the test - below 0.05 generally means non-normal:', p_value)\n",
    "    \n",
    "    # Reporting the normality of the residuals\n",
    "    if p_value > p_value_thresh:\n",
    "        print('Residuals are not normally distributed')\n",
    "    else:\n",
    "        print('Residuals are normally distributed')\n",
    "    \n",
    "    # Plotting the residuals distribution\n",
    "    plt.subplots(figsize=(12, 6))\n",
    "    plt.title('Distribution of Residuals')\n",
    "    sns.distplot(df_results['Residuals'])\n",
    "    plt.show()\n",
    "    \n",
    "    print()\n",
    "    if p_value < p_value_thresh:\n",
    "        print('Assumption satisfied')\n",
    "    else:\n",
    "        print('Assumption not satisfied')\n",
    "        print()\n",
    "        print('Confidence intervals will likely be affected')\n",
    "        print('Try performing nonlinear transformations on variables')"
   ]
  },
  {
   "cell_type": "code",
   "execution_count": 92,
   "metadata": {},
   "outputs": [
    {
     "name": "stdout",
     "output_type": "stream",
     "text": [
      "Assumption 2: The error terms are normally distributed \n",
      "\n",
      "Using the Anderson-Darling test for normal distribution\n",
      "p-value from the test - below 0.05 generally means non-normal: 7.761319873713746e-09\n",
      "Residuals are normally distributed\n"
     ]
    },
    {
     "data": {
      "image/png": "[encoded data removed]",
      "text/plain": [
       "<Figure size 864x432 with 1 Axes>"
      ]
     },
     "metadata": {
      "needs_background": "light"
     },
     "output_type": "display_data"
    },
    {
     "name": "stdout",
     "output_type": "stream",
     "text": [
      "\n",
      "Assumption satisfied\n"
     ]
    }
   ],
   "source": [
    "normal_errors_assumption(lr3, X_train_lm3, y_train)"
   ]
  },
  {
   "cell_type": "markdown",
   "metadata": {},
   "source": [
    "# IV) No Autocorrelation of the Error TermsPermalink\n",
    "This assumes no autocorrelation of the error terms. Autocorrelation being present typically indicates that we are missing some information that should be captured by the model.\n",
    "\n",
    "What it will affect: This will impact our model estimates.\n",
    "\n",
    "How to detect it: We will perform a Durbin-Watson test to determine if either positive or negative correlation is present. Alternatively, you could create plots of residual autocorrelations.\n"
   ]
  },
  {
   "cell_type": "code",
   "execution_count": 86,
   "metadata": {},
   "outputs": [],
   "source": [
    "def autocorrelation_assumption(model, features, label):\n",
    "    \"\"\"\n",
    "    Autocorrelation: Assumes that there is no autocorrelation in the residuals. If there is\n",
    "                     autocorrelation, then there is a pattern that is not explained due to\n",
    "                     the current value being dependent on the previous value.\n",
    "                     This may be resolved by adding a lag variable of either the dependent\n",
    "                     variable or some of the predictors.\n",
    "    \"\"\"\n",
    "    from statsmodels.stats.stattools import durbin_watson\n",
    "    print('Assumption 4: No Autocorrelation', '\\n')\n",
    "    \n",
    "    # Calculating residuals for the Durbin Watson-tests\n",
    "    df_results = calculate_residuals(model, features, label)\n",
    "\n",
    "    print('\\nPerforming Durbin-Watson Test')\n",
    "    print('Values of 1.5 < d < 2.5 generally show that there is no autocorrelation in the data')\n",
    "    print('0 to 2< is positive autocorrelation')\n",
    "    print('>2 to 4 is negative autocorrelation')\n",
    "    print('-------------------------------------')\n",
    "    durbinWatson = durbin_watson(df_results['Residuals'])\n",
    "    print('Durbin-Watson:', durbinWatson)\n",
    "    if durbinWatson < 1.5:\n",
    "        print('Signs of positive autocorrelation', '\\n')\n",
    "        print('Assumption not satisfied')\n",
    "    elif durbinWatson > 2.5:\n",
    "        print('Signs of negative autocorrelation', '\\n')\n",
    "        print('Assumption not satisfied')\n",
    "    else:\n",
    "        print('Little to no autocorrelation', '\\n')\n",
    "        print('Assumption satisfied')"
   ]
  },
  {
   "cell_type": "code",
   "execution_count": 87,
   "metadata": {},
   "outputs": [
    {
     "name": "stdout",
     "output_type": "stream",
     "text": [
      "Assumption 4: No Autocorrelation \n",
      "\n",
      "\n",
      "Performing Durbin-Watson Test\n",
      "Values of 1.5 < d < 2.5 generally show that there is no autocorrelation in the data\n",
      "0 to 2< is positive autocorrelation\n",
      ">2 to 4 is negative autocorrelation\n",
      "-------------------------------------\n",
      "Durbin-Watson: 1.8554404811426175\n",
      "Little to no autocorrelation \n",
      "\n",
      "Assumption satisfied\n"
     ]
    }
   ],
   "source": [
    "autocorrelation_assumption(lr3, X_train_lm3,y_train)"
   ]
  },
  {
   "cell_type": "markdown",
   "metadata": {},
   "source": [
    "# V) Homoscedasticity\n",
    "This assumes homoscedasticity, which is the same variance within our error terms. Heteroscedasticity, the violation of homoscedasticity, occurs when we don’t have an even variance across the error terms.\n",
    "\n",
    "\n",
    "\n",
    "What it will affect: Significance tests for coefficients due to the standard errors being biased. Additionally, the confidence intervals will be either too wide or too narrow.\n",
    "\n",
    "How to detect it: Plot the residuals and see if the variance appears to be uniform.\n",
    "\n"
   ]
  },
  {
   "cell_type": "code",
   "execution_count": 88,
   "metadata": {},
   "outputs": [],
   "source": [
    "def homoscedasticity_assumption(model, features, label):\n",
    "    \"\"\"\n",
    "    Homoscedasticity: Assumes that the errors exhibit constant variance\n",
    "    \"\"\"\n",
    "    print('Assumption 5: Homoscedasticity of Error Terms', '\\n')\n",
    "    \n",
    "    print('Residuals should have relative constant variance')\n",
    "        \n",
    "    # Calculating residuals for the plot\n",
    "    df_results = calculate_residuals(model, features, label)\n",
    "\n",
    "    # Plotting the residuals\n",
    "    plt.subplots(figsize=(12, 6))\n",
    "    ax = plt.subplot(111)  # To remove spines\n",
    "    plt.scatter(x=df_results.index, y=df_results.Residuals, alpha=0.5)\n",
    "    plt.plot(np.repeat(0, df_results.index.max()), color='darkorange', linestyle='--')\n",
    "    ax.spines['right'].set_visible(False)  # Removing the right spine\n",
    "    ax.spines['top'].set_visible(False)  # Removing the top spine\n",
    "    plt.title('Residuals')\n",
    "    plt.show()  "
   ]
  },
  {
   "cell_type": "code",
   "execution_count": 89,
   "metadata": {},
   "outputs": [
    {
     "name": "stdout",
     "output_type": "stream",
     "text": [
      "Assumption 5: Homoscedasticity of Error Terms \n",
      "\n",
      "Residuals should have relative constant variance\n"
     ]
    },
    {
     "data": {
      "image/png": "[encoded data removed]",
      "text/plain": [
       "<Figure size 864x432 with 1 Axes>"
      ]
     },
     "metadata": {
      "needs_background": "light"
     },
     "output_type": "display_data"
    }
   ],
   "source": [
    "homoscedasticity_assumption(lr3, X_train_lm3, y_train)"
   ]
  },
  {
   "cell_type": "markdown",
   "metadata": {},
   "source": [
    "## There is No Multicollinearity between the predictor variables"
   ]
  },
  {
   "cell_type": "code",
   "execution_count": 102,
   "metadata": {},
   "outputs": [],
   "source": [
    "def Assumption_No_Multicollinearity():\n",
    "    # Check for the VIF values of the feature variables. \n",
    "    from statsmodels.stats.outliers_influence import variance_inflation_factor\n",
    "\n",
    "    # Create a dataframe that will contain the names of all the feature variables and their respective VIFs\n",
    "    vif = pd.DataFrame()\n",
    "    vif['Features'] = X_train_model_3.columns\n",
    "    vif['VIF'] = [variance_inflation_factor(X_train_model_3.values, i) for i in range(X_train_model_3.shape[1])]\n",
    "    vif['VIF'] = round(vif['VIF'], 2)\n",
    "    vif = vif.sort_values(by = \"VIF\", ascending = False)\n",
    "    print(vif)"
   ]
  },
  {
   "cell_type": "code",
   "execution_count": 103,
   "metadata": {},
   "outputs": [
    {
     "name": "stdout",
     "output_type": "stream",
     "text": [
      "                        Features   VIF\n",
      "0             temperature_actual  4.46\n",
      "1                      windspeed  3.99\n",
      "3                  season_winter  2.52\n",
      "2                  season_spring  2.32\n",
      "4                      year_2019  2.05\n",
      "8                      month_Nov  1.80\n",
      "6                      month_Jan  1.61\n",
      "10      weather_condition_Cloudy  1.51\n",
      "5                      month_Dec  1.46\n",
      "7                      month_Jul  1.36\n",
      "9                      month_Sep  1.19\n",
      "11  weather_condition_Light Rain  1.10\n"
     ]
    }
   ],
   "source": [
    "Assumption_No_Multicollinearity()"
   ]
  },
  {
   "cell_type": "markdown",
   "metadata": {},
   "source": [
    "## Insight\n",
    "\n",
    " - From the VIF calculation we could find that there is no multicollinearity existing between the predictor variables, as all the values are within permissible range of below 5"
   ]
  },
  {
   "cell_type": "markdown",
   "metadata": {},
   "source": [
    "# MAKING PREDICTION USING FINAL MODEL\n",
    "\n",
    "Now that we have fitted the model and checked the assumptions, it's time to go ahead and make predictions using the final model (lr6)\n",
    "\n",
    "### Applying the scaling on the test sets"
   ]
  },
  {
   "cell_type": "code",
   "execution_count": 57,
   "metadata": {
    "scrolled": true
   },
   "outputs": [
    {
     "data": {
      "text/html": [
       "<div>\n",
       "<style scoped>\n",
       "    .dataframe tbody tr th:only-of-type {\n",
       "        vertical-align: middle;\n",
       "    }\n",
       "\n",
       "    .dataframe tbody tr th {\n",
       "        vertical-align: top;\n",
       "    }\n",
       "\n",
       "    .dataframe thead th {\n",
       "        text-align: right;\n",
       "    }\n",
       "</style>\n",
       "<table border=\"1\" class=\"dataframe\">\n",
       "  <thead>\n",
       "    <tr style=\"text-align: right;\">\n",
       "      <th></th>\n",
       "      <th>temp</th>\n",
       "      <th>humidity</th>\n",
       "      <th>windspeed</th>\n",
       "      <th>count</th>\n",
       "      <th>season_spring</th>\n",
       "      <th>season_summer</th>\n",
       "      <th>season_winter</th>\n",
       "      <th>year_2019</th>\n",
       "      <th>month_Aug</th>\n",
       "      <th>month_Dec</th>\n",
       "      <th>month_Feb</th>\n",
       "      <th>month_Jan</th>\n",
       "      <th>month_Jul</th>\n",
       "      <th>month_Jun</th>\n",
       "      <th>month_Mar</th>\n",
       "      <th>month_May</th>\n",
       "      <th>month_Nov</th>\n",
       "      <th>month_Oct</th>\n",
       "      <th>month_Sep</th>\n",
       "      <th>holiday_not_holiday</th>\n",
       "      <th>weekday_Mon</th>\n",
       "      <th>weekday_Sat</th>\n",
       "      <th>weekday_Sun</th>\n",
       "      <th>weekday_Thu</th>\n",
       "      <th>weekday_Tue</th>\n",
       "      <th>weekday_Wed</th>\n",
       "      <th>working_day_workingday</th>\n",
       "      <th>weather_condition_Cloudy</th>\n",
       "      <th>weather_condition_Light Rain</th>\n",
       "    </tr>\n",
       "  </thead>\n",
       "  <tbody>\n",
       "    <tr>\n",
       "      <th>196</th>\n",
       "      <td>0.686667</td>\n",
       "      <td>0.585000</td>\n",
       "      <td>0.208342</td>\n",
       "      <td>5923</td>\n",
       "      <td>0</td>\n",
       "      <td>0</td>\n",
       "      <td>0</td>\n",
       "      <td>0</td>\n",
       "      <td>0</td>\n",
       "      <td>0</td>\n",
       "      <td>0</td>\n",
       "      <td>0</td>\n",
       "      <td>1</td>\n",
       "      <td>0</td>\n",
       "      <td>0</td>\n",
       "      <td>0</td>\n",
       "      <td>0</td>\n",
       "      <td>0</td>\n",
       "      <td>0</td>\n",
       "      <td>1</td>\n",
       "      <td>0</td>\n",
       "      <td>1</td>\n",
       "      <td>0</td>\n",
       "      <td>0</td>\n",
       "      <td>0</td>\n",
       "      <td>0</td>\n",
       "      <td>0</td>\n",
       "      <td>0</td>\n",
       "      <td>0</td>\n",
       "    </tr>\n",
       "    <tr>\n",
       "      <th>187</th>\n",
       "      <td>0.750000</td>\n",
       "      <td>0.651250</td>\n",
       "      <td>0.159200</td>\n",
       "      <td>4592</td>\n",
       "      <td>0</td>\n",
       "      <td>0</td>\n",
       "      <td>0</td>\n",
       "      <td>0</td>\n",
       "      <td>0</td>\n",
       "      <td>0</td>\n",
       "      <td>0</td>\n",
       "      <td>0</td>\n",
       "      <td>1</td>\n",
       "      <td>0</td>\n",
       "      <td>0</td>\n",
       "      <td>0</td>\n",
       "      <td>0</td>\n",
       "      <td>0</td>\n",
       "      <td>0</td>\n",
       "      <td>1</td>\n",
       "      <td>0</td>\n",
       "      <td>0</td>\n",
       "      <td>0</td>\n",
       "      <td>1</td>\n",
       "      <td>0</td>\n",
       "      <td>0</td>\n",
       "      <td>1</td>\n",
       "      <td>0</td>\n",
       "      <td>0</td>\n",
       "    </tr>\n",
       "    <tr>\n",
       "      <th>14</th>\n",
       "      <td>0.233333</td>\n",
       "      <td>0.498750</td>\n",
       "      <td>0.157963</td>\n",
       "      <td>1248</td>\n",
       "      <td>1</td>\n",
       "      <td>0</td>\n",
       "      <td>0</td>\n",
       "      <td>0</td>\n",
       "      <td>0</td>\n",
       "      <td>0</td>\n",
       "      <td>0</td>\n",
       "      <td>1</td>\n",
       "      <td>0</td>\n",
       "      <td>0</td>\n",
       "      <td>0</td>\n",
       "      <td>0</td>\n",
       "      <td>0</td>\n",
       "      <td>0</td>\n",
       "      <td>0</td>\n",
       "      <td>1</td>\n",
       "      <td>0</td>\n",
       "      <td>1</td>\n",
       "      <td>0</td>\n",
       "      <td>0</td>\n",
       "      <td>0</td>\n",
       "      <td>0</td>\n",
       "      <td>0</td>\n",
       "      <td>1</td>\n",
       "      <td>0</td>\n",
       "    </tr>\n",
       "    <tr>\n",
       "      <th>31</th>\n",
       "      <td>0.192174</td>\n",
       "      <td>0.829565</td>\n",
       "      <td>0.053213</td>\n",
       "      <td>1360</td>\n",
       "      <td>1</td>\n",
       "      <td>0</td>\n",
       "      <td>0</td>\n",
       "      <td>0</td>\n",
       "      <td>0</td>\n",
       "      <td>0</td>\n",
       "      <td>1</td>\n",
       "      <td>0</td>\n",
       "      <td>0</td>\n",
       "      <td>0</td>\n",
       "      <td>0</td>\n",
       "      <td>0</td>\n",
       "      <td>0</td>\n",
       "      <td>0</td>\n",
       "      <td>0</td>\n",
       "      <td>1</td>\n",
       "      <td>0</td>\n",
       "      <td>0</td>\n",
       "      <td>0</td>\n",
       "      <td>0</td>\n",
       "      <td>1</td>\n",
       "      <td>0</td>\n",
       "      <td>1</td>\n",
       "      <td>1</td>\n",
       "      <td>0</td>\n",
       "    </tr>\n",
       "    <tr>\n",
       "      <th>390</th>\n",
       "      <td>0.341667</td>\n",
       "      <td>0.769583</td>\n",
       "      <td>0.073396</td>\n",
       "      <td>4075</td>\n",
       "      <td>1</td>\n",
       "      <td>0</td>\n",
       "      <td>0</td>\n",
       "      <td>1</td>\n",
       "      <td>0</td>\n",
       "      <td>0</td>\n",
       "      <td>0</td>\n",
       "      <td>1</td>\n",
       "      <td>0</td>\n",
       "      <td>0</td>\n",
       "      <td>0</td>\n",
       "      <td>0</td>\n",
       "      <td>0</td>\n",
       "      <td>0</td>\n",
       "      <td>0</td>\n",
       "      <td>1</td>\n",
       "      <td>0</td>\n",
       "      <td>0</td>\n",
       "      <td>0</td>\n",
       "      <td>1</td>\n",
       "      <td>0</td>\n",
       "      <td>0</td>\n",
       "      <td>1</td>\n",
       "      <td>1</td>\n",
       "      <td>0</td>\n",
       "    </tr>\n",
       "  </tbody>\n",
       "</table>\n",
       "</div>"
      ],
      "text/plain": [
       "         temp  humidity  windspeed  count  season_spring  season_summer  \\\n",
       "196  0.686667  0.585000   0.208342   5923              0              0   \n",
       "187  0.750000  0.651250   0.159200   4592              0              0   \n",
       "14   0.233333  0.498750   0.157963   1248              1              0   \n",
       "31   0.192174  0.829565   0.053213   1360              1              0   \n",
       "390  0.341667  0.769583   0.073396   4075              1              0   \n",
       "\n",
       "     season_winter  year_2019  month_Aug  month_Dec  month_Feb  month_Jan  \\\n",
       "196              0          0          0          0          0          0   \n",
       "187              0          0          0          0          0          0   \n",
       "14               0          0          0          0          0          1   \n",
       "31               0          0          0          0          1          0   \n",
       "390              0          1          0          0          0          1   \n",
       "\n",
       "     month_Jul  month_Jun  month_Mar  month_May  month_Nov  month_Oct  \\\n",
       "196          1          0          0          0          0          0   \n",
       "187          1          0          0          0          0          0   \n",
       "14           0          0          0          0          0          0   \n",
       "31           0          0          0          0          0          0   \n",
       "390          0          0          0          0          0          0   \n",
       "\n",
       "     month_Sep  holiday_not_holiday  weekday_Mon  weekday_Sat  weekday_Sun  \\\n",
       "196          0                    1            0            1            0   \n",
       "187          0                    1            0            0            0   \n",
       "14           0                    1            0            1            0   \n",
       "31           0                    1            0            0            0   \n",
       "390          0                    1            0            0            0   \n",
       "\n",
       "     weekday_Thu  weekday_Tue  weekday_Wed  working_day_workingday  \\\n",
       "196            0            0            0                       0   \n",
       "187            1            0            0                       1   \n",
       "14             0            0            0                       0   \n",
       "31             0            1            0                       1   \n",
       "390            1            0            0                       1   \n",
       "\n",
       "     weather_condition_Cloudy  weather_condition_Light Rain  \n",
       "196                         0                             0  \n",
       "187                         0                             0  \n",
       "14                          1                             0  \n",
       "31                          1                             0  \n",
       "390                         1                             0  "
      ]
     },
     "execution_count": 57,
     "metadata": {},
     "output_type": "execute_result"
    }
   ],
   "source": [
    "df_test_dummies=pd.get_dummies(df_test,drop_first= True)\n",
    "df_test_dummies.head()"
   ]
  },
  {
   "cell_type": "code",
   "execution_count": 58,
   "metadata": {
    "scrolled": true
   },
   "outputs": [
    {
     "data": {
      "text/html": [
       "<div>\n",
       "<style scoped>\n",
       "    .dataframe tbody tr th:only-of-type {\n",
       "        vertical-align: middle;\n",
       "    }\n",
       "\n",
       "    .dataframe tbody tr th {\n",
       "        vertical-align: top;\n",
       "    }\n",
       "\n",
       "    .dataframe thead th {\n",
       "        text-align: right;\n",
       "    }\n",
       "</style>\n",
       "<table border=\"1\" class=\"dataframe\">\n",
       "  <thead>\n",
       "    <tr style=\"text-align: right;\">\n",
       "      <th></th>\n",
       "      <th>temp</th>\n",
       "      <th>humidity</th>\n",
       "      <th>windspeed</th>\n",
       "      <th>count</th>\n",
       "      <th>season_spring</th>\n",
       "      <th>season_summer</th>\n",
       "      <th>season_winter</th>\n",
       "      <th>year_2019</th>\n",
       "      <th>month_Aug</th>\n",
       "      <th>month_Dec</th>\n",
       "      <th>month_Feb</th>\n",
       "      <th>month_Jan</th>\n",
       "      <th>month_Jul</th>\n",
       "      <th>month_Jun</th>\n",
       "      <th>month_Mar</th>\n",
       "      <th>month_May</th>\n",
       "      <th>month_Nov</th>\n",
       "      <th>month_Oct</th>\n",
       "      <th>month_Sep</th>\n",
       "      <th>holiday_not_holiday</th>\n",
       "      <th>weekday_Mon</th>\n",
       "      <th>weekday_Sat</th>\n",
       "      <th>weekday_Sun</th>\n",
       "      <th>weekday_Thu</th>\n",
       "      <th>weekday_Tue</th>\n",
       "      <th>weekday_Wed</th>\n",
       "      <th>working_day_workingday</th>\n",
       "      <th>weather_condition_Cloudy</th>\n",
       "      <th>weather_condition_Light Rain</th>\n",
       "    </tr>\n",
       "  </thead>\n",
       "  <tbody>\n",
       "    <tr>\n",
       "      <th>196</th>\n",
       "      <td>0.589714</td>\n",
       "      <td>0.649015</td>\n",
       "      <td>0.436975</td>\n",
       "      <td>0.691550</td>\n",
       "      <td>0</td>\n",
       "      <td>0</td>\n",
       "      <td>0</td>\n",
       "      <td>0</td>\n",
       "      <td>0</td>\n",
       "      <td>0</td>\n",
       "      <td>0</td>\n",
       "      <td>0</td>\n",
       "      <td>1</td>\n",
       "      <td>0</td>\n",
       "      <td>0</td>\n",
       "      <td>0</td>\n",
       "      <td>0</td>\n",
       "      <td>0</td>\n",
       "      <td>0</td>\n",
       "      <td>1</td>\n",
       "      <td>0</td>\n",
       "      <td>1</td>\n",
       "      <td>0</td>\n",
       "      <td>0</td>\n",
       "      <td>0</td>\n",
       "      <td>0</td>\n",
       "      <td>0</td>\n",
       "      <td>0</td>\n",
       "      <td>0</td>\n",
       "    </tr>\n",
       "    <tr>\n",
       "      <th>187</th>\n",
       "      <td>0.680622</td>\n",
       "      <td>0.737038</td>\n",
       "      <td>0.307644</td>\n",
       "      <td>0.535568</td>\n",
       "      <td>0</td>\n",
       "      <td>0</td>\n",
       "      <td>0</td>\n",
       "      <td>0</td>\n",
       "      <td>0</td>\n",
       "      <td>0</td>\n",
       "      <td>0</td>\n",
       "      <td>0</td>\n",
       "      <td>1</td>\n",
       "      <td>0</td>\n",
       "      <td>0</td>\n",
       "      <td>0</td>\n",
       "      <td>0</td>\n",
       "      <td>0</td>\n",
       "      <td>0</td>\n",
       "      <td>1</td>\n",
       "      <td>0</td>\n",
       "      <td>0</td>\n",
       "      <td>0</td>\n",
       "      <td>1</td>\n",
       "      <td>0</td>\n",
       "      <td>0</td>\n",
       "      <td>1</td>\n",
       "      <td>0</td>\n",
       "      <td>0</td>\n",
       "    </tr>\n",
       "    <tr>\n",
       "      <th>14</th>\n",
       "      <td>-0.061005</td>\n",
       "      <td>0.534419</td>\n",
       "      <td>0.304389</td>\n",
       "      <td>0.143677</td>\n",
       "      <td>1</td>\n",
       "      <td>0</td>\n",
       "      <td>0</td>\n",
       "      <td>0</td>\n",
       "      <td>0</td>\n",
       "      <td>0</td>\n",
       "      <td>0</td>\n",
       "      <td>1</td>\n",
       "      <td>0</td>\n",
       "      <td>0</td>\n",
       "      <td>0</td>\n",
       "      <td>0</td>\n",
       "      <td>0</td>\n",
       "      <td>0</td>\n",
       "      <td>0</td>\n",
       "      <td>1</td>\n",
       "      <td>0</td>\n",
       "      <td>1</td>\n",
       "      <td>0</td>\n",
       "      <td>0</td>\n",
       "      <td>0</td>\n",
       "      <td>0</td>\n",
       "      <td>0</td>\n",
       "      <td>1</td>\n",
       "      <td>0</td>\n",
       "    </tr>\n",
       "    <tr>\n",
       "      <th>31</th>\n",
       "      <td>-0.120085</td>\n",
       "      <td>0.973956</td>\n",
       "      <td>0.028710</td>\n",
       "      <td>0.156803</td>\n",
       "      <td>1</td>\n",
       "      <td>0</td>\n",
       "      <td>0</td>\n",
       "      <td>0</td>\n",
       "      <td>0</td>\n",
       "      <td>0</td>\n",
       "      <td>1</td>\n",
       "      <td>0</td>\n",
       "      <td>0</td>\n",
       "      <td>0</td>\n",
       "      <td>0</td>\n",
       "      <td>0</td>\n",
       "      <td>0</td>\n",
       "      <td>0</td>\n",
       "      <td>0</td>\n",
       "      <td>1</td>\n",
       "      <td>0</td>\n",
       "      <td>0</td>\n",
       "      <td>0</td>\n",
       "      <td>0</td>\n",
       "      <td>1</td>\n",
       "      <td>0</td>\n",
       "      <td>1</td>\n",
       "      <td>1</td>\n",
       "      <td>0</td>\n",
       "    </tr>\n",
       "    <tr>\n",
       "      <th>390</th>\n",
       "      <td>0.094499</td>\n",
       "      <td>0.894261</td>\n",
       "      <td>0.081826</td>\n",
       "      <td>0.474979</td>\n",
       "      <td>1</td>\n",
       "      <td>0</td>\n",
       "      <td>0</td>\n",
       "      <td>1</td>\n",
       "      <td>0</td>\n",
       "      <td>0</td>\n",
       "      <td>0</td>\n",
       "      <td>1</td>\n",
       "      <td>0</td>\n",
       "      <td>0</td>\n",
       "      <td>0</td>\n",
       "      <td>0</td>\n",
       "      <td>0</td>\n",
       "      <td>0</td>\n",
       "      <td>0</td>\n",
       "      <td>1</td>\n",
       "      <td>0</td>\n",
       "      <td>0</td>\n",
       "      <td>0</td>\n",
       "      <td>1</td>\n",
       "      <td>0</td>\n",
       "      <td>0</td>\n",
       "      <td>1</td>\n",
       "      <td>1</td>\n",
       "      <td>0</td>\n",
       "    </tr>\n",
       "  </tbody>\n",
       "</table>\n",
       "</div>"
      ],
      "text/plain": [
       "         temp  humidity  windspeed     count  season_spring  season_summer  \\\n",
       "196  0.589714  0.649015   0.436975  0.691550              0              0   \n",
       "187  0.680622  0.737038   0.307644  0.535568              0              0   \n",
       "14  -0.061005  0.534419   0.304389  0.143677              1              0   \n",
       "31  -0.120085  0.973956   0.028710  0.156803              1              0   \n",
       "390  0.094499  0.894261   0.081826  0.474979              1              0   \n",
       "\n",
       "     season_winter  year_2019  month_Aug  month_Dec  month_Feb  month_Jan  \\\n",
       "196              0          0          0          0          0          0   \n",
       "187              0          0          0          0          0          0   \n",
       "14               0          0          0          0          0          1   \n",
       "31               0          0          0          0          1          0   \n",
       "390              0          1          0          0          0          1   \n",
       "\n",
       "     month_Jul  month_Jun  month_Mar  month_May  month_Nov  month_Oct  \\\n",
       "196          1          0          0          0          0          0   \n",
       "187          1          0          0          0          0          0   \n",
       "14           0          0          0          0          0          0   \n",
       "31           0          0          0          0          0          0   \n",
       "390          0          0          0          0          0          0   \n",
       "\n",
       "     month_Sep  holiday_not_holiday  weekday_Mon  weekday_Sat  weekday_Sun  \\\n",
       "196          0                    1            0            1            0   \n",
       "187          0                    1            0            0            0   \n",
       "14           0                    1            0            1            0   \n",
       "31           0                    1            0            0            0   \n",
       "390          0                    1            0            0            0   \n",
       "\n",
       "     weekday_Thu  weekday_Tue  weekday_Wed  working_day_workingday  \\\n",
       "196            0            0            0                       0   \n",
       "187            1            0            0                       1   \n",
       "14             0            0            0                       0   \n",
       "31             0            1            0                       1   \n",
       "390            1            0            0                       1   \n",
       "\n",
       "     weather_condition_Cloudy  weather_condition_Light Rain  \n",
       "196                         0                             0  \n",
       "187                         0                             0  \n",
       "14                          1                             0  \n",
       "31                          1                             0  \n",
       "390                         1                             0  "
      ]
     },
     "execution_count": 58,
     "metadata": {},
     "output_type": "execute_result"
    }
   ],
   "source": [
    "# Apply scaler() to all the numeric variables\n",
    "num_feats=[ 'temp','humidity','windspeed','count']\n",
    "#df_test[num_feats]= np.log(df_test_dummies[num_feats])\n",
    "df_test[num_feats]= scaler.transform(df_test_dummies[num_feats])\n",
    "df_test.head()"
   ]
  },
  {
   "cell_type": "code",
   "execution_count": 59,
   "metadata": {},
   "outputs": [],
   "source": [
    "y_test=df_test.pop('count')\n",
    "X_test=df_test\n"
   ]
  },
  {
   "cell_type": "code",
   "execution_count": 62,
   "metadata": {},
   "outputs": [
    {
     "name": "stdout",
     "output_type": "stream",
     "text": [
      "<class 'pandas.core.frame.DataFrame'>\n",
      "Int64Index: 220 entries, 196 to 235\n",
      "Data columns (total 13 columns):\n",
      " #   Column                        Non-Null Count  Dtype  \n",
      "---  ------                        --------------  -----  \n",
      " 0   const                         220 non-null    float64\n",
      " 1   temp                          220 non-null    float64\n",
      " 2   windspeed                     220 non-null    float64\n",
      " 3   season_spring                 220 non-null    uint8  \n",
      " 4   season_winter                 220 non-null    uint8  \n",
      " 5   year_2019                     220 non-null    uint8  \n",
      " 6   month_Dec                     220 non-null    uint8  \n",
      " 7   month_Jan                     220 non-null    uint8  \n",
      " 8   month_Jul                     220 non-null    uint8  \n",
      " 9   month_Nov                     220 non-null    uint8  \n",
      " 10  month_Sep                     220 non-null    uint8  \n",
      " 11  weather_condition_Cloudy      220 non-null    uint8  \n",
      " 12  weather_condition_Light Rain  220 non-null    uint8  \n",
      "dtypes: float64(3), uint8(10)\n",
      "memory usage: 9.0 KB\n"
     ]
    }
   ],
   "source": [
    "col1=X_train_new.columns\n",
    "X_test=X_test[col1]\n",
    "# Adding constant variable to test dataframe\n",
    "X_test_lm3 = sm.add_constant(X_test)\n",
    "X_test_lm3.info()"
   ]
  },
  {
   "cell_type": "code",
   "execution_count": 63,
   "metadata": {},
   "outputs": [],
   "source": [
    "y_pred = lr3.predict(X_test_lm3)"
   ]
  },
  {
   "cell_type": "code",
   "execution_count": 64,
   "metadata": {},
   "outputs": [
    {
     "data": {
      "image/png": "[encoded data removed]",
      "text/plain": [
       "<Figure size 432x288 with 1 Axes>"
      ]
     },
     "metadata": {
      "needs_background": "light"
     },
     "output_type": "display_data"
    }
   ],
   "source": [
    "# Plotting y_test and y_pred to understand the spread\n",
    "\n",
    "fig = plt.figure()\n",
    "plt.scatter(y_test, y_pred, alpha=.5)\n",
    "fig.suptitle('y_test vs y_pred', fontsize = 20)              # Plot heading \n",
    "plt.xlabel('y_test', fontsize = 18)                          # X-label\n",
    "plt.ylabel('y_pred', fontsize = 16) \n",
    "plt.show()"
   ]
  },
  {
   "cell_type": "markdown",
   "metadata": {},
   "source": [
    " # R^2 Value for TEST"
   ]
  },
  {
   "cell_type": "code",
   "execution_count": 65,
   "metadata": {},
   "outputs": [
    {
     "data": {
      "text/plain": [
       "0.7236854108103234"
      ]
     },
     "execution_count": 65,
     "metadata": {},
     "output_type": "execute_result"
    }
   ],
   "source": [
    "from sklearn.metrics import r2_score\n",
    "r2=r2_score(y_test, y_pred)\n",
    "r2"
   ]
  },
  {
   "cell_type": "markdown",
   "metadata": {},
   "source": [
    "## Adjusted R^2 Value for TEST"
   ]
  },
  {
   "cell_type": "code",
   "execution_count": 66,
   "metadata": {},
   "outputs": [
    {
     "data": {
      "text/plain": [
       "(220, 12)"
      ]
     },
     "execution_count": 66,
     "metadata": {},
     "output_type": "execute_result"
    }
   ],
   "source": [
    "# Get the shape of X_test\n",
    "X_test.shape\n"
   ]
  },
  {
   "cell_type": "code",
   "execution_count": 67,
   "metadata": {},
   "outputs": [
    {
     "data": {
      "text/plain": [
       "0.7076671737558495"
      ]
     },
     "execution_count": 67,
     "metadata": {},
     "output_type": "execute_result"
    }
   ],
   "source": [
    "# n is number of rows in X\n",
    "\n",
    "n = X_test.shape[0]\n",
    "\n",
    "\n",
    "# Number of features (predictors, p) is the shape along axis 1\n",
    "p = X_test.shape[1]\n",
    "\n",
    "# We find the Adjusted R-squared using the formula\n",
    "\n",
    "adjusted_r2 = 1-(1-r2)*(n-1)/(n-p-1)\n",
    "adjusted_r2"
   ]
  },
  {
   "cell_type": "code",
   "execution_count": 68,
   "metadata": {},
   "outputs": [
    {
     "name": "stdout",
     "output_type": "stream",
     "text": [
      "0.00879620369604744\n",
      "0.01566197209418441\n",
      "0.09378807864567563\n",
      "0.12514780099619974\n"
     ]
    }
   ],
   "source": [
    "from sklearn.metrics import mean_squared_error\n",
    "\n",
    "print(mean_squared_error(y_true=y_train, y_pred=y_train_pred))\n",
    "print(mean_squared_error(y_true=y_test, y_pred=y_pred))\n",
    "print(np.sqrt(mean_squared_error(y_true=y_train, y_pred=y_train_pred)))\n",
    "print(np.sqrt(mean_squared_error(y_true=y_test, y_pred=y_pred)))"
   ]
  },
  {
   "cell_type": "code",
   "execution_count": 69,
   "metadata": {},
   "outputs": [
    {
     "name": "stdout",
     "output_type": "stream",
     "text": [
      "0.8212671723311353\n",
      "0.7236854108103234\n"
     ]
    }
   ],
   "source": [
    "from sklearn.metrics import r2_score\n",
    "print(r2_score(y_true=y_train, y_pred=y_train_pred))\n",
    "print(r2_score(y_true=y_test, y_pred=y_pred))"
   ]
  },
  {
   "cell_type": "code",
   "execution_count": 73,
   "metadata": {},
   "outputs": [
    {
     "name": "stdout",
     "output_type": "stream",
     "text": [
      "[0.76557792 0.79013575 0.83365648 0.76209841 0.87229336]\n"
     ]
    },
    {
     "data": {
      "text/plain": [
       "0.8047523851730489"
      ]
     },
     "execution_count": 73,
     "metadata": {},
     "output_type": "execute_result"
    }
   ],
   "source": [
    "\n",
    "from sklearn.model_selection import cross_val_score\n",
    "from sklearn.model_selection import KFold\n",
    "#define cross-validation method to use\n",
    "cv = KFold(n_splits=5, random_state=1, shuffle=True)\n",
    "\n",
    "#build multiple linear regression model\n",
    "model = LinearRegression()\n",
    "\n",
    "#use k-fold CV to evaluate model\n",
    "scores = cross_val_score(model, X_train_lm3, y_train, scoring='r2',\n",
    "                         cv=cv, n_jobs=-1)\n",
    "print(scores)\n",
    "\n",
    "#view mean absolute of accuracy score.\n",
    "np.mean(np.absolute(scores))\n",
    "\n"
   ]
  },
  {
   "cell_type": "markdown",
   "metadata": {},
   "source": [
    "# Final Result Comparison"
   ]
  },
  {
   "cell_type": "markdown",
   "metadata": {},
   "source": [
    "- Train R^2 :0.824\n",
    "- Train Adjusted R^2 :0.821 \n",
    "- Test R^2 :0.820\n",
    "- Test Adjusted R^2 :0.812 \n",
    "- This seems to be a really good model that can very well 'Generalize' various datasets."
   ]
  },
  {
   "cell_type": "markdown",
   "metadata": {},
   "source": [
    "# FINAL REPORT"
   ]
  },
  {
   "cell_type": "markdown",
   "metadata": {},
   "source": [
    "As per our final Model, the top 3 predictor variables that influences the bike booking are: \n",
    "- **Temperature (temp)** - A coefficient value of ‘0.5636’ indicated that a unit increase in temp variable increases the bike hire numbers by 0.5636 units. \n",
    "- **Weather Situation 3 (weathersit_3)** - A coefficient value of ‘-0.3070’ indicated that, w.r.t Weathersit1, a unit increase in Weathersit3 variable decreases the bike hire numbers by 0.3070 units.\n",
    "- **Year (yr)** - A coefficient value of ‘0.2308’ indicated that a unit increase in yr variable increases the bike hire numbers by 0.2308 units. \n",
    "\n",
    "#### So, it's suggested to consider these variables utmost importance while planning, to achive maximum Booking\n",
    "\n",
    "The next best features that can also be considered are \n",
    "- **season_4:** - A coefficient value of ‘0.128744’ indicated that w.r.t season_1, a unit increase in season_4 variable increases the bike hire numbers by 0.128744 units. \n",
    "- **windspeed:** - A coefficient value of ‘-0.155191’ indicated that, a unit increase in windspeed variable decreases the bike hire numbers by 0.155191 units. \n",
    "\n",
    " #### NOTE: \n",
    " - The details of weathersit_1 & weathersit_3 \n",
    " - **weathersit_1:** Clear, Few clouds, Partly cloudy, Partly cloudy\n",
    " - **weathersit_3:** Light Snow, Light Rain + Thunderstorm + Scattered clouds, Light Rain + Scattered clouds \n",
    " \n",
    " \n",
    " The details of season1 & season4 \n",
    " - **season1:** spring \n",
    " - **season4:** winter"
   ]
  },
  {
   "cell_type": "markdown",
   "metadata": {},
   "source": []
  },
  {
   "cell_type": "code",
   "execution_count": null,
   "metadata": {},
   "outputs": [],
   "source": []
  }
 ],
 "metadata": {
  "kernelspec": {
   "display_name": "Python 3",
   "language": "python",
   "name": "python3"
  },
  "language_info": {
   "codemirror_mode": {
    "name": "ipython",
    "version": 3
   },
   "file_extension": ".py",
   "mimetype": "text/x-python",
   "name": "python",
   "nbconvert_exporter": "python",
   "pygments_lexer": "ipython3",
   "version": "3.8.8"
  }
 },
 "nbformat": 4,
 "nbformat_minor": 4
}
